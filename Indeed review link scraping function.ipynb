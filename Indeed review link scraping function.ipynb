{
 "cells": [
  {
   "cell_type": "code",
   "execution_count": 58,
   "metadata": {
    "collapsed": true
   },
   "outputs": [],
   "source": [
    "import requests\n",
    "from bs4 import BeautifulSoup\n",
    "import pandas as pd\n",
    "\n",
    "from selenium import webdriver\n",
    "from selenium.webdriver.common.keys import Keys \n",
    "from selenium.webdriver.support.ui import Select\n",
    "\n",
    "from fuzzywuzzy import fuzz\n",
    "from time import sleep\n",
    "import operator\n"
   ]
  },
  {
   "cell_type": "code",
   "execution_count": 59,
   "metadata": {
    "collapsed": true
   },
   "outputs": [],
   "source": [
    "\n",
    "def get_browser():\n",
    "    chrome_options = webdriver.ChromeOptions()\n",
    "    chrome_options.add_argument('--headless')\n",
    "    chrome_options.add_argument('log-level=3')\n",
    "    browser = webdriver.Chrome(chrome_options=chrome_options)\n",
    "    return browser\n"
   ]
  },
  {
   "cell_type": "code",
   "execution_count": 60,
   "metadata": {
    "collapsed": true
   },
   "outputs": [],
   "source": [
    "\n",
    "def clean(name):\n",
    "    name = name.lower()\n",
    "    junk_words = [\" corporation\",\" inc\",\" ltd\",\" pvt\",\".\",\" llc\",\" llp\",\"&amp\",\";\",\",\"]\n",
    "    for word in junk_words:\n",
    "        name = name.replace(word,\"\")\n",
    "    name = name.strip()\n",
    "    return name\n"
   ]
  },
  {
   "cell_type": "code",
   "execution_count": 61,
   "metadata": {},
   "outputs": [
    {
     "data": {
      "text/plain": [
       "(292, 17)"
      ]
     },
     "execution_count": 61,
     "metadata": {},
     "output_type": "execute_result"
    }
   ],
   "source": [
    "data = None\n",
    "import pandas as pd\n",
    "data = pd.read_excel('DecRenewalAccounts_V.08_ReportID.xlsx',sheet_name = 'Intellect DEC ReportID')\n",
    "data.shape\n",
    "\n"
   ]
  },
  {
   "cell_type": "code",
   "execution_count": 62,
   "metadata": {},
   "outputs": [
    {
     "data": {
      "text/plain": [
       "'MASSACHUSETTS HOUSING FINANCE AGENCY'"
      ]
     },
     "execution_count": 62,
     "metadata": {},
     "output_type": "execute_result"
    }
   ],
   "source": [
    "data['Account_Name2'][0]"
   ]
  },
  {
   "cell_type": "code",
   "execution_count": 51,
   "metadata": {},
   "outputs": [
    {
     "data": {
      "text/plain": [
       "Index(['LM Sr. No.', 'Account_Name', 'Street', 'City', 'State', 'Zip',\n",
       "       'Country', 'LOB', 'Renewal Date', 'Cleaned Account_Name',\n",
       "       'Cleaned Street', 'Cleaned City', 'Cleaned State', 'Cleaned Zip',\n",
       "       'Cleaned Country', 'Melissa Concatenated Company & Addresses',\n",
       "       'Vlookup P to match R', 'Deba Concatenated Company & Addresss',\n",
       "       'Column24', 'Account_Name2', 'Street3', 'City4', 'State5', 'Zip6'],\n",
       "      dtype='object')"
      ]
     },
     "execution_count": 51,
     "metadata": {},
     "output_type": "execute_result"
    }
   ],
   "source": [
    "data.keys()"
   ]
  },
  {
   "cell_type": "code",
   "execution_count": 63,
   "metadata": {},
   "outputs": [
    {
     "name": "stderr",
     "output_type": "stream",
     "text": [
      "C:\\Users\\arvind.baranwal\\AppData\\Local\\Continuum\\anaconda3\\lib\\site-packages\\ipykernel_launcher.py:6: DeprecationWarning: use options instead of chrome_options\n",
      "  \n"
     ]
    }
   ],
   "source": [
    "\n",
    "names=data['Cleaned Updated Account_Name'].tolist()\n",
    "# locations = data['Cleaned Country'].tolist()\n",
    "\n",
    "original = data['Cleaned Updated Account_Name'].tolist()\n",
    "query_company = names\n",
    "query_country = ['USA']*len(query_company)\n",
    "\n",
    "driver = get_browser()\n"
   ]
  },
  {
   "cell_type": "code",
   "execution_count": 64,
   "metadata": {},
   "outputs": [
    {
     "name": "stderr",
     "output_type": "stream",
     "text": [
      "C:\\Users\\arvind.baranwal\\AppData\\Local\\Continuum\\anaconda3\\lib\\site-packages\\ipykernel_launcher.py:6: DeprecationWarning: use options instead of chrome_options\n",
      "  \n"
     ]
    },
    {
     "name": "stdout",
     "output_type": "stream",
     "text": [
      "['Massachusetts Housing Finance Agency']\n",
      "['Fleetwood aluminum products']\n",
      "['U.S. Army', 'Peopleready', 'U.S. Navy', 'Comcast', 'Tradesmen International', 'McCarthy Building Co', 'State of Arizona', 'NPL Construction', 'AECOM', 'CRH', 'Rogers', 'CDM Smith', 'Ultimate LLC', 'Construction Labor Contractors', 'intertek', 'Jacobs', 'Advantage Engineers, LLC', 'Match Marketing', 'KGPCo', 'Habitat For Humanity', 'Fluor Corp.', 'Parsons', 'Signature Retail Services', 'Tremco Incorporated', 'Apex Companies, LLC', 'Blackmon Mooring & BMSCAT', 'Pacific Gas and Electric Company (PG&E)', 'Permabilt Industries, Inc.', 'Miller Pipeline LLC', 'AT&T', 'Edison Energy', 'DuPont', 'Installed Building Products', 'Staff Zone', 'Landscapes Unlimited LLC', 'IBEW', 'Holtger Bros', 'Wood Group', 'Champion Window', 'Alpha EMC', 'HDR', 'CPI Security Systems', 'Burns & McDonnell', 'Altice USA', 'Mortenson Construction', 'Bear Staffing Services', 'MasTec Utility Services', 'NiSource', 'Symbia Logistics', 'Flatiron Construction Corp']\n",
      "['Xcaliber International LLC']\n",
      "['Libertas Copper']\n",
      "['YMCA']\n",
      "['American Plumbing & Heating Corporation', 'American Plumbing and Heating Solar', 'American Plumbing and Heating', 'American Plumbing & Heating', 'American Plumbing Heating & Air (APHAC)']\n",
      "['MMI Hotel Group', 'Hyatt']\n",
      "['Proportion Foods']\n",
      "['Moorea Investments']\n",
      "['Baxmeyer Construction, Inc.', 'U.S. Army', 'Peopleready', 'U.S. Navy', 'Comcast', 'Tradesmen International', 'McCarthy Building Co', 'State of Arizona', 'NPL Construction', 'AECOM', 'CRH', 'Rogers', 'CDM Smith', 'Ultimate LLC', 'Construction Labor Contractors', 'intertek', 'Jacobs', 'Advantage Engineers, LLC', 'Match Marketing', 'KGPCo', 'Habitat For Humanity', 'Fluor Corp.', 'Parsons', 'Signature Retail Services', 'Tremco Incorporated', 'Apex Companies, LLC', 'Blackmon Mooring & BMSCAT', 'Pacific Gas and Electric Company (PG&E)', 'Permabilt Industries, Inc.', 'Miller Pipeline LLC', 'AT&T', 'Edison Energy', 'DuPont', 'Installed Building Products', 'Staff Zone', 'Landscapes Unlimited LLC', 'IBEW', 'Holtger Bros', 'Wood Group', 'Champion Window', 'Alpha EMC', 'HDR', 'CPI Security Systems', 'Burns & McDonnell', 'Altice USA', 'Mortenson Construction', 'Bear Staffing Services', 'MasTec Utility Services', 'NiSource', 'Symbia Logistics']\n",
      "['Navistar Defense', 'STS Technical Services']\n",
      "['Central Metals', 'Central Cal Metals', 'Commercial Metals Company']\n",
      "[]\n",
      "['Free Lighting Corporation']\n",
      "['WESTMONT INDUSTRIES']\n",
      "['AAA Northeast']\n",
      "[]\n",
      "['Copper River Seafoods']\n",
      "['BMP America Inc', 'BMP America']\n",
      "[]\n",
      "['Unique Management Services', 'Subway', 'Taco Bell', 'Walmart', 'McDonald LLC', \"The Wendy's Company\", 'Sonic Drive-In', 'Burger King', 'Starbucks', 'Whataburger', 'U.S. Air Force', 'Little Caesars', \"McDonald's\", 'U.S. Army', 'KFC', 'UPS', 'Verizon', 'AT&T', 'U.S. Navy', \"Lowe's\", \"Domino's\", 'Walgreens', 'Deloitte', 'Chick-fil-A', \"Papa John's\", 'Sprint', 'Pizza Hut', \"Macy's\", 'Dollar General', 'Kroger Stores', 'IHOP', \"Toys 'R' Us\", 'The Home Depot', 'IBM', 'Wells Fargo', 'Sears', 'Sport Clips', \"Dunkin' Donuts\", 'Wingstop', 'Nordstrom', 'Jack in the Box', 'JCPenney', \"Jimmy John's Sandwiches\", 'Steak N Shake', 'Dairy Queen', 'T-Mobile', 'White Castle', 'PwC', 'Panera Bread', 'Accenture']\n",
      "['STANDRIDGE COLOR CORPORATION']\n",
      "['Rocket Farm Restaurants']\n",
      "['DeVry University', 'DeVry University and Keller Graduate School of Management', 'DEVRY UNIVERSITY KELLER GRADUATE SCHOOL OF MANAGEMENT', 'DeVry University Work Study', 'DeVry University and Keller School of Management', 'DeVry University of Long Beach', 'DeVry University Registrar Office', 'DeVry University Bookstore', 'DeVry University Advantage Academy High School', 'DeVry University and Keller Graduate School', 'DeVry University of New York', 'DeVry University Library', 'Chamberlain University', 'Affiliated Computer Services/Xerox', 'Keller Graduate School of Management']\n",
      "['Florida Engineering and Development Corp', 'Amazon.com', 'Lockheed Martin', 'Northrop Grumman', 'IBM', 'Leidos', 'General Dynamics Information Technology', 'SAIC', 'Microsoft', 'GE Corporate', 'Raytheon', 'CACI International Inc', 'Boeing', 'Booz Allen Hamilton', 'Siemens AG', 'UnitedHealth Group', 'JPMorgan Chase', 'Comcast', 'Cisco', 'Collins Aerospace', 'Accenture', 'Capital One', 'Intel', 'Apple', 'AT&T', 'Verizon', 'Oracle', 'Google', 'BAE Systems', 'Honeywell', 'Dell', 'L3 Technologies', 'Tata Consultancy Services (TCS)', 'Walmart', 'Robert Half Technology', 'Fiserv', 'Walmart eCommerce', 'Hewlett Packard Enterprise', 'General Motors', 'ManTech International Corporation', 'Tyler Technologies, Inc.', 'Facebook', 'Fidelity Investments', 'L&T Technology Services Ltd.', 'DXC Technology', 'Tech Mahindra', 'Deloitte', 'CGI Group', 'Thermo Fisher Scientific', 'Cox Automotive']\n",
      "[]\n",
      "['National Employment Agency']\n",
      "[]\n",
      "['Pretzels', \"Wetzel's Pretzels\", 'Mr. Pretzels', 'WETZELS PRETZELS', \"Ben's Soft Pretzels\", 'Bens Soft Pretzels', 'Pretzels Inc', 'Le Bon Pretzels', 'Wetzel Pretzels', 'Pretzels Plus', \"Antie Anne's Pretzels\", 'Pretzels, Inc', \"Ben's Pretzels\", \"We're Rolling Pretzels\", 'Tom Sturgis Pretzels', \"Anntie Ann's Pretzels\", 'Bens Pretzels', 'Aunt Annies Pretzels', 'Walmart', \"Auntie Anne's\", 'Subway', 'Walt Disney Parks and Resorts', \"Ben & Jerry's\", \"Auntie Anne's and Cinnabon\", \"Pretzel's Inc\"]\n",
      "['Bykowski Equipment and Engineering Co']\n",
      "['Cohu Inc', 'Cohu', 'Delta Design a Cohu', 'Cohu Electronics', 'cohu electronic inc']\n",
      "['NSI Services, Inc.', 'NSI Nursing Services']\n",
      "['The Mattiace Company']\n",
      "['Kolene Corporation']\n",
      "['B. Green & Company, Inc.', 'B. Green & Company']\n",
      "['Armand Agra']\n",
      "['Dennis Uniform', 'GE Corporate', 'Ashley Furniture Industries', 'Lockheed Martin', 'Texas Instruments, Inc', 'GE Aviation', 'Continental Carbonic Products', 'Baker Hughes Incorporated', 'Amgen', 'Pella Corporation', 'Boeing', 'Caterpillar', 'Ford Motor Company', '3M', 'Pfizer Inc.', 'Gemini, Inc.', 'Abbott Laboratories', 'Eaton', 'Johnson & Johnson', 'Siemens AG', 'Baxter Healthcare', 'BD', 'Fiat Chrysler Automobiles', 'Medtronic', 'Collins Aerospace', 'CNH Industrial', 'Keysight Technologies', 'MillerCoors', \"Lowe's\", 'Intel', 'Integer', 'Unilever', 'General Motors', 'DISH', 'W. L. Gore & Associates', 'State of Minnesota', 'ClarkDietrich Building Systems', 'New Balance', 'Honda', 'PepsiCo', 'GE Power & Water', 'DuPont', 'Thermo Fisher Scientific', 'Northrop Grumman', 'Motorola Solutions', 'Bell Flight', 'Catalent Pharma Solutions', 'ON Semiconductor', 'Weatherford', 'Celanese']\n",
      "['SodaStream USA']\n",
      "[]\n",
      "['Northwest Hotel Corporation', 'Marriott International, Inc.', 'Holiday Inn', 'Embassy Suites by Hilton', 'Radisson Hotel', 'HOTEL WESTIN']\n",
      "['The State Group Industrial', 'Tri-State Industrial Group', 'TRI-STATE INDUSTRIAL GROUP']\n",
      "[]\n",
      "['Zamma Corporation', 'Zamma']\n",
      "['Lancaster Development Inc', 'Lancaster Development']\n",
      "['Morris Petroleum', 'Fleet Morris Petroleum']\n",
      "[\"Bunney's Inc.\"]\n",
      "[]\n",
      "['Brooks Automation']\n",
      "['24 Carrots', '24 carrots Catering and Events', '24 Carrots Catering']\n",
      "[]\n",
      "['SMART Technologies', 'Smart Systems Technologies', 'SMART Modular Technologies', 'Smart Business Technologies', 'Smart Source Technologies', 'Smart Information Flow Technologies', 'Atlantic Smart Technologies', 'Smart Machine Technologies', 'Smart-Hose Technologies', 'smart media technologies', 'Smart Source Technologies Inc']\n",
      "[]\n",
      "[]\n",
      "['Altman Management Company', 'Subway', 'Taco Bell', 'Walmart', 'McDonald LLC', \"The Wendy's Company\", 'Sonic Drive-In', 'Burger King', 'Starbucks', 'Whataburger', 'U.S. Air Force', 'Little Caesars', \"McDonald's\", 'U.S. Army', 'KFC', 'UPS', 'Verizon', 'AT&T', 'U.S. Navy', \"Lowe's\", \"Domino's\", 'Walgreens', 'Deloitte', 'Chick-fil-A', \"Papa John's\", 'Sprint', 'Pizza Hut', \"Macy's\", 'Dollar General', 'Kroger Stores', 'IHOP', \"Toys 'R' Us\", 'The Home Depot', 'IBM', 'Wells Fargo', 'Sears', 'Sport Clips', \"Dunkin' Donuts\", 'Wingstop', 'Nordstrom', 'Jack in the Box', 'JCPenney', \"Jimmy John's Sandwiches\", 'Steak N Shake', 'Dairy Queen', 'T-Mobile', 'White Castle', 'PwC', 'Panera Bread', 'Accenture']\n",
      "[]\n",
      "['Hyosung USA, Inc.', 'Hyosung USA, Inc', 'Hyosung USA', 'Nautilus Hyosung USA']\n",
      "['Tilson Technology Management Inc', 'Subway', 'Taco Bell', 'Walmart', 'McDonald LLC', \"The Wendy's Company\", 'Sonic Drive-In', 'Burger King', 'Starbucks', 'Whataburger', 'U.S. Air Force', 'Little Caesars', \"McDonald's\", 'U.S. Army', 'KFC', 'UPS', 'Verizon', 'AT&T', 'U.S. Navy', \"Lowe's\", \"Domino's\", 'Walgreens', 'Deloitte', 'Chick-fil-A', \"Papa John's\", 'Sprint', 'Pizza Hut', \"Macy's\", 'Dollar General', 'Kroger Stores', 'IHOP', \"Toys 'R' Us\", 'The Home Depot', 'IBM', 'Wells Fargo', 'Sears', 'Sport Clips', \"Dunkin' Donuts\", 'Wingstop', 'Nordstrom', 'Jack in the Box', 'JCPenney', \"Jimmy John's Sandwiches\", 'Steak N Shake', 'Dairy Queen', 'T-Mobile', 'White Castle', 'PwC', 'Panera Bread', 'Accenture']\n"
     ]
    },
    {
     "name": "stdout",
     "output_type": "stream",
     "text": [
      "['Sound Around', 'All Around Sound Entertainment']\n",
      "['World Class Flowers LLC', 'world class flowers']\n",
      "[]\n",
      "['Braun Linen Service Inc']\n",
      "['AT&T', 'Wells Fargo', 'United States Postal Service', 'IBM', 'Bank of America', 'Uber Partner Drivers', 'Comcast', 'Verizon', 'FedEx', 'Robert Half Technology', 'UnitedHealth Group', 'Lockheed Martin', 'U.S. Army', 'The Home Depot', 'Duke Energy', 'GE Corporate', 'Modis', 'Apple', 'Capital One', 'CenturyLink', 'Lyft', 'Instacart Shoppers', 'HP', 'Postmates', 'Northrop Grumman', 'Honeywell', 'NASA', 'McKesson', 'Amazon Flex', 'Kaiser Permanente', 'Tradesmen International', 'Google', 'Peopleready', 'Boeing', 'Citi', 'CACI International Inc', 'Siemens AG', 'Pfizer Inc.', 'JPMorgan Chase', 'Shipt', 'U.S. Air Force', 'Amazon.com', 'IDC Technologies', 'FedEx Ground', 'Department of Homeland Security', 'UPS', 'Custom Communications, Inc.', 'Facebook', 'Johnson & Johnson', 'ExxonMobil']\n",
      "['Weber Grill Restaurants, LLC', 'Steak N Shake', 'Compass Group', 'Bob Evans Restaurants', 'Cracker Barrel', 'Sodexo', 'Aramark', \"The Wendy's Company\", 'Chipotle Mexican Grill', \"Logan's Roadhouse\", 'Dairy Queen', \"McDonald's\", 'TravelCenters of America', 'Hy-Vee, Inc.', 'Pollo Tropical', 'Taco Cabana', \"Torchy's Tacos\", 'Sonic Drive-In', 'HuHot Mongolian Grill', 'Burger King', 'B.Good Restaurant', 'Red Lobster', 'Jack in the Box', 'Marriott International, Inc.', 'Outback Steakhouse', \"Jim 'N Nick's Bar-B-Que\", 'AVI Foodsystems, Inc', 'Whataburger', \"bd's Mongolian Grill\", 'Ruby Tuesday', 'Waffle House', 'Del Taco', 'CAVA', 'Kneaders Bakery & Cafe', 'Texas Roadhouse', 'Golden Corral Corporation', 'Kona Grill', 'Tender Greens', 'McDonald LLC', 'Five Guys', \"Applebee's\", 'Burtons Grill & Bar', 'HMSHost', 'Qdoba', \"Moe's Southwest Grill\", 'Charleys Philly Steaks', 'Guckenheimer', \"Papa Gino's\", 'Aviands Food & Services Management', 'Longhorn Steakhouse']\n",
      "['Northeast Military Sales', 'Buckle', 'Vector Marketing', 'Verizon', 'AT&T', 'T-Mobile', 'Cintas', 'Lids', 'Nordstrom', 'DEFENDERS', 'State Farm Mutual Automobile Insurance Company', \"Macy's\", 'Sprint', 'Sears', 'Best Buy', 'TruGreen', 'ADT Security Services', \"Victoria's Secret\", 'Walmart', 'The Home Depot', 'Wyndham Destinations', 'Cricket Wireless', 'Comcast', 'Target', 'Liberty Mutual', 'Boost Mobile', 'PepsiCo', 'Mondelez International', \"Lowe's\", 'Concentrix', 'LGI Homes', 'Cellular Sales', 'Sherwin-Williams', 'Erie Construction', 'Stryker', 'RR Donnelley', 'DialAmerica', 'Alorica', 'PNC Financial Services Group', 'Bluegreen Vacations', 'Ikea', 'DaBella', 'Metro by T-Mobile', 'Westgate Resorts', 'Aptive Environmental', 'Curtze Food Service', 'Total Quality Logistics (TQL)', 'Republic National Distributing Company', 'Power Home Remodeling', 'Oracle']\n",
      "['Natural Systems Utilities', 'Compass Group', 'Sodexo', 'HMSHost', 'The Hertz Corporation', 'ACRT, Inc.', 'Army National Guard', 'Meijer', 'Brookdale Senior Living', 'Jacent Strategic Merchandising', 'Unidine', 'Lakeside Environmental Consultants, LLC', \"Applebee's\", 'Golden Corral Corporation', 'Martin Marietta Materials', 'Aramark', 'Davey Resource Group', 'Archer Daniels Midland', 'Cintas', 'TRC Solutions', 'Chick-fil-A', 'Osmose Utilities Services Inc', 'Bahama Breeze', 'CRH', 'International Paper', 'Pacific Gas and Electric Company (PG&E)', 'Marriott International, Inc.', 'Red Lobster', 'Smashburger', 'United States Steel', 'MV Transportation', 'Tyson Foods Incorporated', 'Goodwill Industries', 'Atrium Hospitality', 'Centene', 'UniFirst', 'Cargill', 'Westrock', 'Shaw Industries', \"Specialty's Cafe' & Bakery\", 'Olive Garden', 'West Fraser Timber', 'Frito-Lay', 'Delaware North', 'Humana', 'Rentokil Initial', 'RESORT LIFESTYLE COMMUNITIES', 'John Q. Hammons Hotels & Resorts', \"Ted's Montana Grill\", 'The Papé Group, Inc.']\n",
      "['Dallas Museum of Art']\n",
      "['Visionary Sleep LLC']\n",
      "['David Oppenheimer & Company']\n",
      "['Heartland Fabrication', 'U.S. Army', 'HD Supply', 'Walmart', 'Boeing', 'Ferguson Enterprises, Inc.', 'Commercial Metals Company', 'Harris Rebar', 'CRH', 'Lockheed Martin', 'GE Corporate', 'Hobby Lobby', 'Caterpillar', 'Service Partners', 'Eaton', 'Ashley Furniture Industries', 'Morgan Corporation', \"Marden's Surplus & Salvage\", 'ResourceMFG', 'Schneider Electric', 'Advanced Drainage Systems', 'Maintenance Supply Headquarters', 'Jo-Ann Fabric and Craft Stores', 'Saint-Gobain', 'Whirlpool Corporation', 'Skyworks Solutions', 'Airgas', 'Siemens AG', 'Rev Group', 'Frazier Industrial Company', 'Custom Truck One Source', 'Northrop Grumman', 'Jones Sign', 'ON Semiconductor', 'Core & Main', 'Oshkosh Corporation', 'TruTeam', 'Contech Engineered Solutions LLC', 'ABB', 'Cargill', 'Johnson Controls', 'Gemini, Inc.', 'Turner Industries', 'Spirit AeroSystems', 'Textron Aviation', 'Doosan Bobcat', 'Viking Group', 'CB&I', 'Rush Enterprises', 'ESI']\n",
      "['Thunder Mountain Enterprises']\n",
      "['MB Real Estate Services', 'Keller Williams Realty', 'Virtuance', 'Coldwell Banker', 'PlanOmatic', 'RE/MAX', 'CBRE', 'Century 21', 'Deloitte', 'Prudential', 'EY', 'Redfin', 'Verizon', 'Milshar, LLC', 'PNC Financial Services Group', 'eXp Realty', 'Wells Fargo', 'WeWork', 'Owners.com', '7-Eleven', 'Regions Bank', 'Google', 'Berkshire Hathaway HomeServices The Preferred Realty', 'JPMorgan Chase', 'Crown Castle', 'Duff & Phelps', 'Duke Energy', 'Aspen Dental', 'KPMG', 'Altisource', 'Main Street Renewal LLC', 'Sonder', 'Purplebricks USA', 'USAA', 'Midwest Title Group LLC', 'KeyBank', 'Capital One', 'Baker Tilly Virchow Krause', 'iHeartMedia, Inc.', 'Lidl US', 'Fathom Realty', 'RSM', 'State of Colorado', 'Starbucks', 'DLA Piper', 'U.S. Bank', 'Lamar Advertising Company', 'Guaranty Bank & Trust', 'Arrow Electronics', 'BNY Mellon']\n",
      "['Vanguard Associates', 'Walmart', 'The Home Depot', 'Panera Bread', 'Amazon.com', \"Kohl's\", 'Old Navy', 'In-N-Out Burger', 'Amazon Fulfillment Associates', \"Macy's\", 'ALDI', 'Kroger Stores', 'JCPenney', \"Lowe's\", 'Target', 'PetSmart', 'Ross Dress For Less', 'T.J. Maxx', 'Marshalls', 'Capital One', 'CarMax', 'Sears', 'UPS', 'JPMorgan Chase', 'Booz Allen Hamilton', 'Goodwill Industries', 'Wawa', \"Dick's Sporting Goods\", 'Potbelly Sandwich Shop', 'LegalShield', 'Bed Bath & Beyond', 'Big Lots', 'PwC', \"Toys 'R' Us\", 'Honda', 'YMCA', 'Best Buy', 'Staples', 'Dollar Tree', 'The TJX Companies, Inc.', 'Burlington Stores', 'RaceTrac Petroleum, Inc.', 'State Farm Mutual Automobile Insurance Company', 'Walgreens', 'HomeGoods', 'Costco Wholesale', 'Bath & Body Works', 'Wells Fargo', 'Nike', \"Victoria's Secret\"]\n",
      "[]\n",
      "['BOGUSH, INC.']\n",
      "['Unity School of Christianity']\n",
      "['The Bernard Group', 'Saint Bernard Group', 'The Home Depot', 'Bank of America', 'Concentrix', 'Aramark', 'Meijer', 'Panda Restaurant Group', \"Dave & Buster's\", 'Apria Healthcare', 'Norwegian Cruise Line', 'Praxair', 'FPL Group', 'Reckitt Benckiser India']\n",
      "['Westlake Housing LP', 'Westlake Housing, LP']\n",
      "['Smith & Company', 'Brockway-Smith Company', 'SMITH BITS A SCHLUMBERGER COMPANY', 'Allison-Smith Company', 'William C. Smith & Company', 'Fred Smith Company', 'C.L. Smith Company', 'A.O. Smith Water Products Company', 'S.H. Smith & Company', 'SMITH DRUG COMPANY', 'GABRIEL ROEDER SMITH AND COMPANY', 'Judd, Thomas, Smith and Company', 'Fred Smith Company Construction', 'SMITH BUS COMPANY', 'The Smith Company', 'smith company', 'Ivy H. Smith Company, LLC', 'SMITH PUMP COMPANY', 'Original Smith Island Cake Company', 'W. C. Smith Management Company', 'DONALD SMITH COMPANY', 'Johnson Smith Company', 'Smith Emery Company', 'Smith & Company Architects', 'Smith Distributing Company', 'Keith Smith Company, Inc', 'Smith Exterminating Company, Inc', 'Smith Island Baking Company', 'Smith Engineering Company', 'Judson Smith Company', 'Dicky Smith & Company', 'Smith & Greene Company', 'Vance Smith Construction Company', 'C. L. Smith Industrial Company', 'ALLISON-SMITH COMPANY', 'Elmer Smith Oil Company', 'Keith Smith Company, Inc', \"Dillard's, Inc.\", 'A. O. Smith Corporation', 'Smith & Nephew', 'Overhead Door Corporation', 'Trimark USA', 'American Outdoor Brands Corporation', 'The Adecco Group', 'Allison Smith', 'Smith Oil', 'L.E. Smith', 'Smith Packing', 'Judson A. Smith', 'Smith Research']\n",
      "[]\n",
      "['GE Corporate', 'Ashley Furniture Industries', 'Lockheed Martin', 'Texas Instruments, Inc', 'GE Aviation', 'Continental Carbonic Products', 'Baker Hughes Incorporated', 'Amgen', 'Pella Corporation', 'Boeing', 'Caterpillar', 'Ford Motor Company', '3M', 'Pfizer Inc.', 'Gemini, Inc.', 'Abbott Laboratories', 'Eaton', 'Johnson & Johnson', 'Siemens AG', 'Baxter Healthcare', 'BD', 'Fiat Chrysler Automobiles', 'Medtronic', 'Collins Aerospace', 'CNH Industrial', 'Keysight Technologies', 'MillerCoors', \"Lowe's\", 'Intel', 'Integer', 'Unilever', 'General Motors', 'DISH', 'W. L. Gore & Associates', 'State of Minnesota', 'ClarkDietrich Building Systems', 'New Balance', 'Honda', 'PepsiCo', 'GE Power & Water', 'DuPont', 'Thermo Fisher Scientific', 'Northrop Grumman', 'Motorola Solutions', 'Bell Flight', 'Catalent Pharma Solutions', 'ON Semiconductor', 'Weatherford', 'Celanese', 'Greenheck Group']\n"
     ]
    },
    {
     "name": "stdout",
     "output_type": "stream",
     "text": [
      "['TAVO PACKAGING', 'UPS', 'Matheson Tri-Gas, Inc.', 'Amazon.com', 'Fastenal', 'ResourceMFG', 'FedEx', 'FedEx Ground', 'Pactiv', 'Graham Packaging Company', 'Zimmer Biomet', 'Saputo', 'The QTI Group', 'Bluegreen Vacations', 'OnStaff USA', 'Steel Technologies LLC', 'Acme Brick Company', 'IBM', 'Medline Industries', 'Cargill', 'Coca-Cola Beverages Florida, LLC', 'TERRA Staffing Group', 'Mancan', 'Greyhound', 'Mars', 'Conagra Brands', 'Unilever', 'Perrigo', 'KERRY', 'Westrock', 'BASF Corporation', 'MillerCoors', 'Henkel', 'Walmart', 'Curaleaf', \"L'Oreal USA\", 'Amazon Fulfillment Associates', 'Berlin Packaging', \"Macy's\", 'Tyson Foods Incorporated', 'Newell Brands', 'QUAD', 'Corporate Services, Inc.', 'General Mills', 'Wells Fargo', 'Tricorbraun, Inc.', 'Kraft Heinz Company', 'FurstStaffing', 'Associated Home Care, Inc.', 'Onward Search']\n",
      "['Subway', 'Taco Bell', 'Walmart', 'McDonald LLC', \"The Wendy's Company\", 'Sonic Drive-In', 'Burger King', 'Starbucks', 'Whataburger', 'U.S. Air Force', 'Little Caesars', \"McDonald's\", 'U.S. Army', 'KFC', 'UPS', 'Verizon', 'AT&T', 'U.S. Navy', \"Lowe's\", \"Domino's\", 'Walgreens', 'Deloitte', 'Chick-fil-A', \"Papa John's\", 'Sprint', 'Pizza Hut', \"Macy's\", 'Dollar General', 'Kroger Stores', 'IHOP', \"Toys 'R' Us\", 'The Home Depot', 'IBM', 'Wells Fargo', 'Sears', 'Sport Clips', \"Dunkin' Donuts\", 'Wingstop', 'Nordstrom', 'Jack in the Box', 'JCPenney', \"Jimmy John's Sandwiches\", 'Steak N Shake', 'Dairy Queen', 'T-Mobile', 'White Castle', 'PwC', 'Panera Bread', 'Accenture', 'Smoothie King']\n",
      "['CLARE HOLDINGS LLC']\n",
      "['Montachem International Inc']\n",
      "['Williams International Co LLC', 'Williams International', 'Ritter International Realty of Keller Williams', 'Keller Williams Realty', 'WillScot']\n",
      "[]\n",
      "['Concorde Battery Corporation', 'Concorde Battery']\n",
      "[]\n",
      "['VENDORS SUPPLY INC', 'Cozymeal', \"Macy's\", 'Harris Teeter', 'Delaware North', 'Medline Industries', 'Levy', 'Aramark', 'Amazon.com', 'Acosta Sales & Marketing', 'Quicken Loans Inc.', 'Premium Retail Services', 'Costco Wholesale', 'Walt Disney Parks and Resorts', \"Lowe's\", 'AVI Foodsystems, Inc', 'Google', 'The InStore Group', 'The Home Depot', 'PepsiCo', 'Bank of America', 'Advantage Solutions', 'The Walt Disney Company', 'Bass Pro Shops', 'Tech Data', 'Frontier Airlines', 'Legends', 'Prudential', 'CROSSMARK', 'Plant Essentials, Inc', 'Anderson Merchandisers', 'The Scotts Miracle-Gro Company', 'The Coca-Cola Company (TCCC)', 'Best Buy', 'Fine Designs', 'Amazon Fulfillment Associates', 'Staples', 'Clear Capital', 'Nordstrom', 'Jyve Corporation', 'Plant Partners, Inc', 'FedEx', 'Coca-Cola Bottling Co. Consolidated', 'Mondelez International', 'CVS Health', 'UnitedHealth Group', 'Hallmark', 'Target', 'American Greetings', 'Office Depot OfficeMax']\n",
      "['Innovative Distribution Services']\n",
      "[]\n",
      "['Tri State Dismantling', 'Tri-State Dismantling Corporation']\n",
      "['Superior Crane', 'superior crane and rigging']\n",
      "[]\n",
      "['IMI FABI']\n",
      "['Doster Construction Company, Inc.', 'U.S. Army', 'Peopleready', 'U.S. Navy', 'Comcast', 'Tradesmen International', 'McCarthy Building Co', 'State of Arizona', 'NPL Construction', 'AECOM', 'CRH', 'Rogers', 'CDM Smith', 'Ultimate LLC', 'Construction Labor Contractors', 'intertek', 'Jacobs', 'Advantage Engineers, LLC', 'Match Marketing', 'KGPCo', 'Habitat For Humanity', 'Fluor Corp.', 'Parsons', 'Signature Retail Services', 'Tremco Incorporated', 'Apex Companies, LLC', 'Blackmon Mooring & BMSCAT', 'Pacific Gas and Electric Company (PG&E)', 'Permabilt Industries, Inc.', 'Miller Pipeline LLC', 'AT&T', 'Edison Energy', 'DuPont', 'Installed Building Products', 'Staff Zone', 'Landscapes Unlimited LLC', 'IBEW', 'Holtger Bros', 'Wood Group', 'Champion Window', 'Alpha EMC', 'HDR', 'CPI Security Systems', 'Burns & McDonnell', 'Altice USA', 'Mortenson Construction', 'Bear Staffing Services', 'MasTec Utility Services', 'NiSource', 'Symbia Logistics']\n",
      "['Orion Construction Corporation', 'U.S. Army', 'Peopleready', 'U.S. Navy', 'Comcast', 'Tradesmen International', 'McCarthy Building Co', 'State of Arizona', 'NPL Construction', 'AECOM', 'CRH', 'Rogers', 'CDM Smith', 'Ultimate LLC', 'Construction Labor Contractors', 'intertek', 'Jacobs', 'Advantage Engineers, LLC', 'Match Marketing', 'KGPCo', 'Habitat For Humanity', 'Fluor Corp.', 'Parsons', 'Signature Retail Services', 'Tremco Incorporated', 'Apex Companies, LLC', 'Blackmon Mooring & BMSCAT', 'Pacific Gas and Electric Company (PG&E)', 'Permabilt Industries, Inc.', 'Miller Pipeline LLC', 'AT&T', 'Edison Energy', 'DuPont', 'Installed Building Products', 'Staff Zone', 'Landscapes Unlimited LLC', 'IBEW', 'Holtger Bros', 'Wood Group', 'Champion Window', 'Alpha EMC', 'HDR', 'CPI Security Systems', 'Burns & McDonnell', 'Altice USA', 'Mortenson Construction', 'Bear Staffing Services', 'MasTec Utility Services', 'NiSource', 'Symbia Logistics']\n",
      "['Restaurant Expert Management Inc.', 'Taco Bell', 'Pizza Hut', 'Burger King GPS Hospitality', \"Dunkin' Donuts\", 'Burger King', \"Denny's\", \"The Wendy's Company\", \"Chili's\", \"Applebee's\", 'Jack in the Box', 'NPC International', 'Qdoba', \"Bojangles' Restaurants, Inc\", 'Panera Bread', 'KFC', 'Boston Market', 'Steak N Shake', \"Popeye's Restaurants\", \"Logan's Roadhouse\", 'Marriott International, Inc.', 'Little Caesars', 'Cracker Barrel', 'Red Lobster', 'Red Robin', 'Village Inn', '54th street', 'IHOP', \"BJ'S Restaurant & Brewhouse\", 'Zoes Kitchen, Inc.', 'Gyu-Kaku Japanese BBQ', 'Olive Garden', 'Subway', 'Buffalo Wild Wings', 'Round Table Pizza', 'Goodwin Recruiting', \"Miller's Ale House\", 'Whataburger', 'Longhorn Steakhouse', 'Peter Piper Pizza', 'On the Border Mexican Grill and Cantina', \"Fazoli's\", \"Love's Travel Stops & Country Stores\", 'Blaze Pizza', \"McDonald's\", \"Cheddar's Scratch Kitchen\", 'Hooters', 'Darden Restaurants', 'The Cheesecake Factory', 'Hilton']\n",
      "[]\n",
      "['Kowalski Companies, Inc.', 'Kowalski Companies, Inc']\n",
      "['Little Rapids Corporation']\n",
      "['T3 Micro']\n",
      "[]\n",
      "[]\n",
      "[]\n",
      "['Team Beans LLC', 'Team Beans']\n",
      "[]\n",
      "['Ink Systems', 'PREMIER INK SYSTEMS', 'Ink Systems Inc.', 'FujiFilm']\n",
      "['Walmart', 'The Home Depot', 'Panera Bread', 'Amazon.com', \"Kohl's\", 'Old Navy', 'In-N-Out Burger', 'Amazon Fulfillment Associates', \"Macy's\", 'ALDI', 'Kroger Stores', 'JCPenney', \"Lowe's\", 'Target', 'PetSmart', 'Ross Dress For Less', 'T.J. Maxx', 'Marshalls', 'Capital One', 'CarMax', 'Sears', 'UPS', 'JPMorgan Chase', 'Booz Allen Hamilton', 'Goodwill Industries', 'Wawa', \"Dick's Sporting Goods\", 'Potbelly Sandwich Shop', 'LegalShield', 'Bed Bath & Beyond', 'Big Lots', 'PwC', \"Toys 'R' Us\", 'Honda', 'YMCA', 'Best Buy', 'Staples', 'Dollar Tree', 'The TJX Companies, Inc.', 'Burlington Stores', 'RaceTrac Petroleum, Inc.', 'State Farm Mutual Automobile Insurance Company', 'Walgreens', 'HomeGoods', 'Costco Wholesale', 'Bath & Body Works', 'Wells Fargo', 'Nike', \"Victoria's Secret\", 'Subway']\n",
      "[]\n",
      "['state line construction', 'U.S. Army', 'Peopleready', 'U.S. Navy', 'Comcast', 'Tradesmen International', 'McCarthy Building Co', 'State of Arizona', 'NPL Construction', 'AECOM', 'CRH', 'Rogers', 'CDM Smith', 'Ultimate LLC', 'Construction Labor Contractors', 'intertek', 'Jacobs', 'Advantage Engineers, LLC', 'Match Marketing', 'KGPCo', 'Habitat For Humanity', 'Fluor Corp.', 'Parsons', 'Signature Retail Services', 'Tremco Incorporated', 'Apex Companies, LLC', 'Blackmon Mooring & BMSCAT', 'Pacific Gas and Electric Company (PG&E)', 'Permabilt Industries, Inc.', 'Miller Pipeline LLC', 'AT&T', 'Edison Energy', 'DuPont', 'Installed Building Products', 'Staff Zone', 'Landscapes Unlimited LLC', 'IBEW', 'Holtger Bros', 'Wood Group', 'Champion Window', 'Alpha EMC', 'HDR', 'CPI Security Systems', 'Burns & McDonnell', 'Altice USA', 'Mortenson Construction', 'Bear Staffing Services', 'MasTec Utility Services', 'NiSource', 'Symbia Logistics']\n",
      "[]\n",
      "['NAL Group, formerly Installs LLC', 'MedScope', 'Southern Star, Inc.', 'Johnson Controls', 'TruTeam', 'JCPenney', 'ADT Security Services', \"Fry's Electronics\", \"O'Reilly Auto Parts\", 'Best Buy', 'Hunter Douglas', 'Bath Planet', 'Comcast', 'AT&T', 'UnitedHealth Group', 'ProVantage Corporate Solutions', 'The Shade Store', 'Overhead Door Corporation', 'Nextlink Internet', 'Car Toys', 'SolarCity', 'Bath Fitter', 'DISH', 'KGPCo', 'Renewal by Andersen', 'Installed Building Products', 'SafeStreetsUSA', 'Aclara Technologies', \"Lowe's\", 'J.B. Hunt', 'Champion Window', 'Sunrun', 'West Shore Home', 'CDK Global', 'Service Experts', 'Safelite Group', 'Verizon', 'U-Haul', 'Hallmark', 'Auto Truck Group', 'Cintas', 'Tesla', 'Jones Sign', 'Canine Company', 'IMI – A Global People Company', 'CSC ServiceWorks', 'Rockwood Shutters', 'Backyard Products LLC', 'Auto-Chlor System', 'Sears']\n"
     ]
    },
    {
     "name": "stdout",
     "output_type": "stream",
     "text": [
      "['Snap Fitness', 'Subway - Mainly Manna, Inc.']\n",
      "['AAON Inc', 'AAON', 'Aaon Coil Products', 'AAON, Inc', 'Aaon Coil', 'AAON, INC.']\n",
      "['International Brotherhood of Teamsters', 'International Brotherhood of Teamsters Local']\n",
      "[]\n",
      "['Newco Inc', 'PCI Newco', 'Newco Manufacturing', 'Alfred Angelo, Newco', 'Newco Warranty', 'Hamlin Newco', 'Newco International', 'Newco Enterprises', 'Cameron NEWCO', 'NEWCO DISTRIBUTORS', 'Newco Enterprises Inc', 'NEWCO DESIGN BUILD', 'WMB NewCo', 'Newco Warranty Services', 'Tedeschi Food Shops', '7-Eleven', 'Jack in the Box', 'Danaher']\n",
      "['Crom, LLC', 'Crom Construction', 'Crom Corporation', 'Crom LLC', 'The Crom Corporation', 'CROM EQUIPMENT RENTALS', 'CROM Engineering', 'CROM', 'Autometal']\n",
      "['WILDER LLC', 'JOHN S. WILDER YOUTH DEVELOPMENT CENTER', 'Amherst H. Wilder Foundation', 'L. Douglas Wilder Library', 'ERA Wilder Realty', 'Michaels Wilder Inc', 'Wilder Foundation', 'WILDER CORPORATION', 'Wilder Elementary School', 'Wilder Ranch', 'Wilder Construction', 'Wilder Balter Partners', 'Wilder', 'Wilder Technologies', 'wilder youth development center', 'WILDER FARMS', 'Wilder School District', 'Wilder Hall-Oberlin College', 'Wilder Fire Department', 'Douglas Wilder Middle School', 'Anthony Wilder Design/Build, Inc.', 'Hampton by Hilton', 'State Farm Mutual Automobile Insurance Company', 'Metro by T-Mobile', 'State of Tennessee', 'Country Inns & Suites', 'Sava Senior Care', 'Pei Wei Asian Kitchen', 'Henrico County Public Schools', 'General Dynamics Mission Systems', 'LHC Group', 'Dycora', 'Administaff']\n",
      "[]\n",
      "['ABM Industries, Inc.', 'The Hertz Corporation', 'C&W Services', 'Planet Fitness', 'Scioto Services', 'ServiceMaster', 'Avis Budget Group', 'Taco Bell', 'Enviro-Clean', 'Town Sports International', 'The Budd Group', 'The Cleaning Authority', 'IH Services, Inc', 'Motel 6 / Studio 6', 'GCA Services Group', 'Corporate Cleaning Group', 'KleenMark', 'Cushman & Wakefield', 'MaidPro', 'Enterprise Holdings', 'FBG Service Corporation', 'Marsden Building Maintenance', 'Topgolf', 'Janitorial Services, Inc.', 'ISS Facility Services', 'Nordstrom', 'SoulCycle', 'Marriott International, Inc.', 'Handy', 'Burger King', 'Walmart', 'Nelbud Services Group', 'B&T Contractors Inc', 'Mr. Rooter Plumbing', 'Swissport International Ltd.', 'Planned Companies', 'PrimeFlight Aviation', 'GRBS, Inc.', 'Kimco Services', 'Kellermeyer Bergensons Services', 'Two Maids & A Mop', \"Buc-ee's\", 'In-N-Out Burger', 'WinnCompanies', 'MasterCorp', 'Aramark', 'LA Fitness', 'Block By Block', 'Environment Control of Wisconsin, Inc.', \"The Wendy's Company\"]\n",
      "['ICE Services', 'ICE Currency Services', 'ICE Data Services', 'Intercontinental Exchange', 'Manitowoc', 'I.C.E. Professional Services LLC']\n",
      "['GPL Construction', 'U.S. Army', 'Peopleready', 'U.S. Navy', 'Comcast', 'Tradesmen International', 'McCarthy Building Co', 'State of Arizona', 'NPL Construction', 'AECOM', 'CRH', 'Rogers', 'CDM Smith', 'Ultimate LLC', 'Construction Labor Contractors', 'intertek', 'Jacobs', 'Advantage Engineers, LLC', 'Match Marketing', 'KGPCo', 'Habitat For Humanity', 'Fluor Corp.', 'Parsons', 'Signature Retail Services', 'Tremco Incorporated', 'Apex Companies, LLC', 'Blackmon Mooring & BMSCAT', 'Pacific Gas and Electric Company (PG&E)', 'Permabilt Industries, Inc.', 'Miller Pipeline LLC', 'AT&T', 'Edison Energy', 'DuPont', 'Installed Building Products', 'Staff Zone', 'Landscapes Unlimited LLC', 'IBEW', 'Holtger Bros', 'Wood Group', 'Champion Window', 'Alpha EMC', 'HDR', 'CPI Security Systems', 'Burns & McDonnell', 'Altice USA', 'Mortenson Construction', 'Bear Staffing Services', 'MasTec Utility Services', 'NiSource', 'Symbia Logistics']\n",
      "['Signature Retail Services', 'Public Storage', 'Apple', \"Macy's\", 'Bed Bath & Beyond', 'Speedway LLC', 'Micro Center', 'Ikea', 'Walmart', 'Centerstate Bank', 'Big 5 Sporting Goods', 'Ross Dress For Less', \"Kohl's\", 'Publix', 'The Home Depot', 'JCPenney', \"David's Bridal\", 'Goodwill Industries', 'UPS', 'REI', 'Ashley Furniture HomeStore', 'Cracker Barrel', 'K&G Fashion Superstore', 'Metro Lakes Executives', 'Galls LLC', 'JPMorgan Chase', 'Goodwill Industries of Middle Tennessee', 'BankUnited', 'Advance Auto Parts', 'Circle K', 'PetSmart', 'Bass Pro Shops', 'FedEx Office', 'Verizon', 'Big Lots', \"Bob's Discount Furniture\", 'Starbucks', \"Lowe's\", 'Office Depot OfficeMax', 'Kwik Trip', 'At Home The Home Decor Superstore', 'Whole Foods Market', 'Visionworks', 'Health Spot', 'Nike', 'Target', 'Amazon.com', 'EZCORP, Inc.', 'Chevron', 'Agway of Cape Cod']\n",
      "[]\n",
      "['U.S. Army', 'Peopleready', 'U.S. Navy', 'Comcast', 'Tradesmen International', 'McCarthy Building Co', 'State of Arizona', 'NPL Construction', 'AECOM', 'CRH', 'Rogers', 'CDM Smith', 'Ultimate LLC', 'Construction Labor Contractors', 'intertek', 'Jacobs', 'Advantage Engineers, LLC', 'Match Marketing', 'KGPCo', 'Habitat For Humanity', 'Fluor Corp.', 'Parsons', 'Signature Retail Services', 'Tremco Incorporated', 'Apex Companies, LLC', 'Blackmon Mooring & BMSCAT', 'Pacific Gas and Electric Company (PG&E)', 'Permabilt Industries, Inc.', 'Miller Pipeline LLC', 'AT&T', 'Edison Energy', 'DuPont', 'Installed Building Products', 'Staff Zone', 'Landscapes Unlimited LLC', 'IBEW', 'Holtger Bros', 'Wood Group', 'Champion Window', 'Alpha EMC', 'HDR', 'CPI Security Systems', 'Burns & McDonnell', 'Altice USA', 'Mortenson Construction', 'Bear Staffing Services', 'MasTec Utility Services', 'NiSource', 'Symbia Logistics', 'Flatiron Construction Corp']\n",
      "['Legacy Cabinets']\n",
      "['Trans-Tel Central, Inc.', 'Trans-Tel Central Inc', 'Trans-tel Central']\n",
      "[]\n",
      "['JaGee Holdings, LLP']\n",
      "['TNG Worldwide, Inc.']\n",
      "['Rolf C Hagen USA', 'Rolf C. Hagen']\n",
      "['Korber Group']\n",
      "['China Jushi USA Corp.']\n",
      "[]\n",
      "[]\n",
      "['BRADLEY CONSTRUCTION', 'U.S. Army', 'Peopleready', 'U.S. Navy', 'Comcast', 'Tradesmen International', 'McCarthy Building Co', 'State of Arizona', 'NPL Construction', 'AECOM', 'CRH', 'Rogers', 'CDM Smith', 'Ultimate LLC', 'Construction Labor Contractors', 'intertek', 'Jacobs', 'Advantage Engineers, LLC', 'Match Marketing', 'KGPCo', 'Habitat For Humanity', 'Fluor Corp.', 'Parsons', 'Signature Retail Services', 'Tremco Incorporated', 'Apex Companies, LLC', 'Blackmon Mooring & BMSCAT', 'Pacific Gas and Electric Company (PG&E)', 'Permabilt Industries, Inc.', 'Miller Pipeline LLC', 'AT&T', 'Edison Energy', 'DuPont', 'Installed Building Products', 'Staff Zone', 'Landscapes Unlimited LLC', 'IBEW', 'Holtger Bros', 'Wood Group', 'Champion Window', 'Alpha EMC', 'HDR', 'CPI Security Systems', 'Burns & McDonnell', 'Altice USA', 'Mortenson Construction', 'Bear Staffing Services', 'MasTec Utility Services', 'NiSource', 'Symbia Logistics']\n",
      "['Information Providers, Inc', 'Information Providers Inc', 'Information Providers', 'Information Providers Ltd']\n",
      "[]\n",
      "['Acme Construction Supply Inc.', 'U.S. Army', 'Peopleready', 'U.S. Navy', 'Comcast', 'Tradesmen International', 'McCarthy Building Co', 'State of Arizona', 'NPL Construction', 'AECOM', 'CRH', 'Rogers', 'CDM Smith', 'Ultimate LLC', 'Construction Labor Contractors', 'intertek', 'Jacobs', 'Advantage Engineers, LLC', 'Match Marketing', 'KGPCo', 'Habitat For Humanity', 'Fluor Corp.', 'Parsons', 'Signature Retail Services', 'Tremco Incorporated', 'Apex Companies, LLC', 'Blackmon Mooring & BMSCAT', 'Pacific Gas and Electric Company (PG&E)', 'Permabilt Industries, Inc.', 'Miller Pipeline LLC', 'AT&T', 'Edison Energy', 'DuPont', 'Installed Building Products', 'Staff Zone', 'Landscapes Unlimited LLC', 'IBEW', 'Holtger Bros', 'Wood Group', 'Champion Window', 'Alpha EMC', 'HDR', 'CPI Security Systems', 'Burns & McDonnell', 'Altice USA', 'Mortenson Construction', 'Bear Staffing Services', 'MasTec Utility Services', 'NiSource', 'Symbia Logistics']\n",
      "['Performant Financial Corporation']\n",
      "['GEORGIA BIOMASS LLC', 'GEORGIA BIOMASS']\n",
      "['Walmart', 'Wipro', 'Lockheed Martin', 'Bristol-Myers Squibb', 'Infosys', 'Ricoh', 'T-Mobile', 'AT&T', 'State Street', 'Corning', 'Delek US Holdings', 'MetLife', 'Teleperformance', 'Underwriters Laboratories', 'Steris', \"Toys 'R' Us\", 'The Home Depot', 'Syneos Health Clinical', 'DynCorp International Inc', 'Berry Global, Inc', 'Unisys', 'Liberty Coca-Cola Beverages', \"Children's Hospital of Wisconsin\", 'Omaha Public Schools', 'Computer Enterprises, Inc. (CEI)', 'Accenture', 'IBM', 'USAA', 'Lidl US', 'Ithaca College', 'AECOM', 'Deloitte', 'TD Auto Finance', 'Aesculap Inc.', 'CLARCOR', 'Cherokee County Schools', 'IMS Logistics', 'fastpack', 'Jasper Engines', 'Indianapolis Motor Speedway', 'Taldepot.com', 'IMS', 'DK Consulting, LLC', 'DNV GL', 'Koam Engineering Systems', 'Schaedler Yesco Distribution', 'Capitol Region Education Council', 'Landis+Gyr', 'TELEWORLD SOLUTIONS', 'Phoenix Contact']\n"
     ]
    },
    {
     "name": "stdout",
     "output_type": "stream",
     "text": [
      "['PIERCE ALUMINUM']\n",
      "['CITADEL CONTRACTORS INC', 'AT&T', 'Wells Fargo', 'United States Postal Service', 'IBM', 'Bank of America', 'Uber Partner Drivers', 'Comcast', 'Verizon', 'FedEx', 'Robert Half Technology', 'UnitedHealth Group', 'Lockheed Martin', 'U.S. Army', 'The Home Depot', 'Duke Energy', 'GE Corporate', 'Modis', 'Apple', 'Capital One', 'CenturyLink', 'Lyft', 'Instacart Shoppers', 'HP', 'Postmates', 'Northrop Grumman', 'Honeywell', 'NASA', 'McKesson', 'Amazon Flex', 'Kaiser Permanente', 'Tradesmen International', 'Google', 'Peopleready', 'Boeing', 'Citi', 'CACI International Inc', 'Siemens AG', 'Pfizer Inc.', 'JPMorgan Chase', 'Shipt', 'U.S. Air Force', 'Amazon.com', 'IDC Technologies', 'FedEx Ground', 'Department of Homeland Security', 'UPS', 'Custom Communications, Inc.', 'Facebook', 'Johnson & Johnson']\n",
      "[]\n",
      "['New Avenues Lease Ownership', 'SGS', 'Career Strategies', 'Greystar Property Management', 'Yes! Communities', 'Monarch Investment and Management Group', 'FPI Management, Inc.', 'JLL', 'BG Staffing - BG Multifamily', 'American Homes 4 Rent', 'Simon Property Group', 'Broad Management Group', 'Fairfield Residential', 'Cushman & Wakefield', 'The Liberty Group', 'Aarons', 'Meadow Lark Companies', 'Conifer Realty', 'PRG Real Estate', 'Campus Advantage', 'American Campus Communities', 'Main Street Renewal LLC', 'Highland Management Group, Inc.', 'Advenir Living', 'Steadfast Companies', 'Alliance Residential Company', 'Garden Communities', 'Commonwealth Companies', 'Cardinal Group', 'Tzadik Management', 'Gatehouse Management Inc', 'CBRE', 'Tonti Properties', 'Standard Enterprises', 'Coldwell Banker', 'Edward Rose & Sons', 'Bank of America', 'U.S. Bank', 'AAA APARTMENT STAFFING', 'Princeton Property Management', 'KAR Auction Services', 'Pinnacle Property Management Services', 'Trinity Property Consultants', 'AIY Properties', 'Richman Property Services, Inc.', 'Invitation Homes', 'Lion Real Estate Group', 'Aramark', 'AMC LLC', 'MAA']\n",
      "['Cels Enterprises, Inc.']\n",
      "['V3 Transportation', 'The Dart Network', 'Schneider', 'Swift Transportation', 'C.R. England', 'Werner Enterprises', 'Republic Services', 'TransAm Trucking', 'Ryder', 'Chalk Mountain Services', 'Cardinal / Greatwide Logistics', 'Walmart', 'US Xpress', 'J.B. Hunt', 'Celadon Trucking', 'Western Express', 'Mobile Mini Solutions', 'U.S. Army', 'PepsiCo', 'FedEx', \"Lowe's\", 'Sysco', 'Penske', 'Central Transport', 'UPS', 'Knight Transportation', 'McLane Company', 'Richard Recruiting', 'Fastenal', 'Crete Carrier Corporation', 'ProDrivers', 'Army National Guard', 'Principle Distribution', 'Averitt', 'US Foods', 'Goodwill Industries', 'The Salvation Army', 'ECM Transport, LLC', 'UNFI', 'XPO Logistics', 'FedEx Ground', 'Anderson Trucking Service', 'Transforce, Inc.', 'Estes Express Lines', 'CRH', 'Black Horse Carriers, Inc.', 'Shawnee Transportation', 'Roehl Transport', 'Stevens Transport', 'Ruan']\n",
      "['Shasta green']\n",
      "['REISS CORPORATION', 'Reiss Wholesale Hardware', 'Gold & Reiss Co', 'GOLD & REISS CORP', 'Uzzi Reiss, MD', 'Reiss of London', 'Reiss London', 'Reiss SOHO', 'Reiss Manufacturing', 'Reiss Hauling and Recycling', \"Bloomingdale's\", 'Weltman, Weinberg & Reis Co., LPA', 'Landmark Group', 'Thomas Cook']\n",
      "['Dalfen America']\n",
      "['Stebbins Engineering and Manufacturing', 'GE Corporate', 'Collins Aerospace', 'Northrop Grumman', 'Lockheed Martin', 'Parker Hannifin', 'Boeing', 'Eaton', 'Honeywell', 'Caterpillar', 'L&T Technology Services Ltd.', 'Medtronic', '3M', 'John Deere', 'L3 Technologies', 'GE Aviation', 'Stanley Black & Decker', 'Emerson', 'TE Connectivity', 'Safran', 'Johnson Controls', 'Ford Motor Company', 'Raytheon', 'Triumph Group, Inc.', 'Ingersoll-Rand', 'Siemens AG', 'Abbott Laboratories', 'ABB', 'Cyient', 'Schneider Electric', 'Volvo', 'Philips', 'Baker Hughes Incorporated', 'Thermo Fisher Scientific', 'Jabil Circuit', 'Pratt & Whitney', 'BAE Systems', 'Sunrise Systems', 'Magna International Inc', 'Federal-Mogul Powertrain', 'B/E Aerospace', 'Katalyst Healthcares & Life Sciences', 'American Axle & Manufacturing, Inc.', 'Hubbell, Inc.', 'Honda', 'Boston Scientific', 'Adient', 'Terex', 'Saint-Gobain', 'Bosch']\n",
      "['Omaha Zoological Society']\n",
      "[\"Porter's Group LLC\", 'Burger King', \"Culver's\", 'Bowlero Corp', 'TravelCenters of America', 'Prestige Maintenance USA', 'Restaurant Depot', 'Gerber Collision & Glass', 'AutoNation', 'Camping World', 'Planned Companies', 'American Campus Communities', 'DriveTime', 'Penske Automotive Group', \"Dunkin' Donuts\", 'Delaware North', \"Conn's Home Plus\", 'FirstService Residential', 'Toyota', 'Steak N Shake', 'AvalonBay Communities', 'Staples', 'Service King Collision Repair', 'Alliance Residential Company', 'Marriott International, Inc.', 'Lithia Motors, Inc.', 'DENT WIZARD', 'Guckenheimer', 'Pinnacle Automotive', 'GateGourmet', 'Compass Group', 'bartaco', 'Kellermeyer Bergensons Services', 'Valet Living', 'Stop and Shop Supermarket', 'American Queen Steamboat Company', 'Whole Foods Market', 'BMW', 'Rush Enterprises', 'Campus Advantage', 'THE PALM RESTAURANT GROUP', 'Mattress Firm', 'Honda', 'ABM Industries, Inc.', 'CareOne', 'US Auto Sales', 'Hunt Companies', 'R³ Construction Services, Inc.', 'Whataburger', 'Nissan']\n",
      "['Panera Bread', 'Albertsons', \"Dunkin' Donuts\", 'Walmart', 'Whole Foods Market', 'Texas Roadhouse', 'Tim Hortons', 'Ingles Markets', 'Einstein Bros.® Bagels', 'Costco Wholesale', 'Wakefern Food Corporation', 'The Fresh Market', 'The Cheesecake Factory', 'Nothing Bundt Cakes', 'Golden Corral Corporation', 'Hy-Vee, Inc.', 'HEB', 'Kroger Stores', 'Publix', 'Compass Group', 'Aramark', 'Safeway', 'Meijer', \"Schlotzsky's\", \"BJ's Wholesale Club\", 'Sodexo', 'Caribou Coffee', 'Wegmans', 'Souplantation & Sweet Tomatoes', 'Harris Teeter', 'ARYZTA', 'Krispy Kreme', 'Au Bon Pain', 'Marriott International, Inc.', \"Noah's New York Bagels\", 'Target', 'Kneaders Bakery & Cafe', \"Roundy's\", \"Auntie Anne's\", \"Mariano's\", 'King Soopers', '85C Bakery Cafe', 'Giant Eagle, Inc.', 'Great American Cookies', \"Bashas' Supermarkets\", \"Specialty's Cafe' & Bakery\", 'Fresh Thyme Farmers Market', 'Maverik', 'Festival Foods', \"DiBella's\"]\n",
      "['MECHANICAL TECHNOLOGIES', 'U.S. Army', 'The Pep Boys - Manny, Moe & Jack', 'TravelCenters of America', 'Army National Guard', 'Sunbelt Rentals', 'AutoNation', 'U.S. Navy', 'U.S. Air Force', 'U.S. Marine Corps', 'Herc Rentals', 'Sunstate Equipment', 'Boeing', 'Pilot Flying J', 'Army Reserve', 'Big O Tires', 'Lockheed Martin', 'H&E Equipment Services', 'Menzies Aviation', 'CRH', 'Firestone Complete Auto Care', 'The Hertz Corporation', 'YRC Freight', 'U-Haul', 'Transdev', 'XPO Logistics', 'Waste Connections', 'AECOM', 'Bowlero Corp', 'Rural King', 'Northrop Grumman', 'Amerit Fleet Solutions', 'Goodyear', 'Republic Services', 'Ag-Pro Companies', 'Jiffy Lube', 'Werner Enterprises', 'DynCorp International Inc', 'Mavis Discount Tire', 'Sears', 'Tyson Foods Incorporated', 'UPS', \"Love's Travel Stops & Country Stores\", 'Walmart', 'Vail Resorts', 'Niagara Bottling', 'Halliburton', 'MV Transportation', 'United States Postal Service', 'K1 Speed']\n",
      "[]\n",
      "[]\n",
      "['Trident Capital Group']\n",
      "[]\n",
      "['ECONOMOS PROPERTIES', 'Outback Steakhouse', 'Courtyard by Marriott']\n",
      "['Eagle Family Foods Group LLC']\n",
      "['Walmart', 'The Home Depot', 'Panera Bread', 'Amazon.com', \"Kohl's\", 'Old Navy', 'In-N-Out Burger', 'Amazon Fulfillment Associates', \"Macy's\", 'ALDI', 'Kroger Stores', 'JCPenney', \"Lowe's\", 'Target', 'PetSmart', 'Ross Dress For Less', 'T.J. Maxx', 'Marshalls', 'Capital One', 'CarMax', 'Sears', 'UPS', 'JPMorgan Chase', 'Booz Allen Hamilton', 'Goodwill Industries', 'Wawa', \"Dick's Sporting Goods\", 'Potbelly Sandwich Shop', 'LegalShield', 'Bed Bath & Beyond', 'Big Lots', 'PwC', \"Toys 'R' Us\", 'Honda', 'YMCA', 'Best Buy', 'Staples', 'Dollar Tree', 'The TJX Companies, Inc.', 'Burlington Stores', 'RaceTrac Petroleum, Inc.', 'State Farm Mutual Automobile Insurance Company', 'Walgreens', 'HomeGoods', 'Costco Wholesale', 'Bath & Body Works', 'Wells Fargo', 'Nike', \"Victoria's Secret\", 'Subway']\n",
      "['BWGS']\n",
      "['Liberty Flooring']\n",
      "['Evans Foods', 'Bob Evans Restaurants', 'Bob Evans Farms', 'Savory Foods']\n",
      "[]\n",
      "[]\n",
      "['Merlone Geier Management', 'Subway', 'Taco Bell', 'Walmart', 'McDonald LLC', \"The Wendy's Company\", 'Sonic Drive-In', 'Burger King', 'Starbucks', 'Whataburger', 'U.S. Air Force', 'Little Caesars', \"McDonald's\", 'U.S. Army', 'KFC', 'UPS', 'Verizon', 'AT&T', 'U.S. Navy', \"Lowe's\", \"Domino's\", 'Walgreens', 'Deloitte', 'Chick-fil-A', \"Papa John's\", 'Sprint', 'Pizza Hut', \"Macy's\", 'Dollar General', 'Kroger Stores', 'IHOP', \"Toys 'R' Us\", 'The Home Depot', 'IBM', 'Wells Fargo', 'Sears', 'Sport Clips', \"Dunkin' Donuts\", 'Wingstop', 'Nordstrom', 'Jack in the Box', 'JCPenney', \"Jimmy John's Sandwiches\", 'Steak N Shake', 'Dairy Queen', 'T-Mobile', 'White Castle', 'PwC', 'Panera Bread', 'Accenture']\n"
     ]
    },
    {
     "name": "stdout",
     "output_type": "stream",
     "text": [
      "['dayka & hackett llc']\n",
      "['GMCO Corporation', 'GMCO']\n",
      "[]\n",
      "[]\n",
      "['Giddy', 'Giddy Up', 'Giddy Up Glamour']\n",
      "[]\n",
      "['FCL Graphics']\n",
      "['TruTeam', 'Innovative Refrigeration Systems', 'Installed Building Products', 'Brock Group', 'Zachry Group', 'KBR', 'Turner Industries', 'Performance Contracting Group', 'Jacobs', 'USI', 'Huntington Ingalls Industries', 'Wood Group', 'Tradesmen International', 'Craft and Technical Solutions, LLC', '84 Lumber Company', 'G5 Enterprises, Inc.', 'aptim', 'Mistras Group, Inc.', 'PLS Logistics Services', 'Service Partners', 'Electrical Talent, LLC', 'Mundy Companies', 'Nvent', \"Josh Lowe's Dr. Energy Saver\", 'Brown and Root Industrial Services', 'CLEAResult', 'ARS/Rescue Rooter', 'EMCOR', 'TopBuild', 'Safeway', 'BAE Systems', 'Masco', 'Zachry Construction Corporation', 'Fluor Corp.', 'Miller Insulation', 'CQ Insulation, Inc.', 'Isaac Heating & Air Conditioning', 'U.S. Navy', 'McDermott', 'BrandSafway Anacortes', 'National Lumber Family of Companies', 'Imerys', 'Quality Insulation', 'Owens Corning', '31-W Insulation', 'saulsbury', 'County of Los Angeles', 'BHI Energy', 'Ameri-Force', 'Johns Manville']\n",
      "[]\n",
      "[]\n",
      "[]\n",
      "['Pacific Agri-Products, Inc.']\n",
      "['The New Haven Companies, Inc.']\n",
      "['Ameda', 'Evenflo/Ameda']\n",
      "[]\n",
      "[\"Scott's Liquid Gold\"]\n",
      "['AA Cleaning', 'ABM Industries, Inc.', 'The Hertz Corporation', 'C&W Services', 'Planet Fitness', 'Scioto Services', 'ServiceMaster', 'Avis Budget Group', 'Taco Bell', 'Enviro-Clean', 'Town Sports International', 'The Budd Group', 'The Cleaning Authority', 'IH Services, Inc', 'Motel 6 / Studio 6', 'GCA Services Group', 'Corporate Cleaning Group', 'KleenMark', 'Cushman & Wakefield', 'MaidPro', 'Enterprise Holdings', 'FBG Service Corporation', 'Marsden Building Maintenance', 'Topgolf', 'Janitorial Services, Inc.', 'ISS Facility Services', 'Nordstrom', 'SoulCycle', 'Marriott International, Inc.', 'Handy', 'Burger King', 'Walmart', 'Nelbud Services Group', 'B&T Contractors Inc', 'Mr. Rooter Plumbing', 'Swissport International Ltd.', 'Planned Companies', 'PrimeFlight Aviation', 'GRBS, Inc.', 'Kimco Services', 'Kellermeyer Bergensons Services', 'Two Maids & A Mop', \"Buc-ee's\", 'In-N-Out Burger', 'WinnCompanies', 'MasterCorp', 'Aramark', 'LA Fitness', 'Block By Block', 'Environment Control of Wisconsin, Inc.']\n",
      "['JWS', 'JWS Refrigeration', 'Jollibee']\n",
      "['Resource Environmental Solutions LLC']\n",
      "['Spottswood Companies, Inc.']\n",
      "['Wylie Steel Fabricators', 'U.S. Army', 'HD Supply', 'Walmart', 'Boeing', 'Ferguson Enterprises, Inc.', 'Commercial Metals Company', 'Harris Rebar', 'CRH', 'Lockheed Martin', 'GE Corporate', 'Hobby Lobby', 'Caterpillar', 'Service Partners', 'Eaton', 'Ashley Furniture Industries', 'Morgan Corporation', \"Marden's Surplus & Salvage\", 'ResourceMFG', 'Schneider Electric', 'Advanced Drainage Systems', 'Maintenance Supply Headquarters', 'Jo-Ann Fabric and Craft Stores', 'Saint-Gobain', 'Whirlpool Corporation', 'Skyworks Solutions', 'Airgas', 'Siemens AG', 'Rev Group', 'Frazier Industrial Company', 'Custom Truck One Source', 'Northrop Grumman', 'Jones Sign', 'ON Semiconductor', 'Core & Main', 'Oshkosh Corporation', 'TruTeam', 'Contech Engineered Solutions LLC', 'ABB', 'Cargill', 'Johnson Controls', 'Gemini, Inc.', 'Turner Industries', 'Spirit AeroSystems', 'Textron Aviation', 'Doosan Bobcat', 'Viking Group', 'CB&I', 'Rush Enterprises', 'ESI']\n",
      "[]\n",
      "['Best Logistics Technology', 'Harbor Freight Tools USA, Inc.', 'Target', 'U.S. Army', \"Brink's Incorporated\", 'Nordstrom', 'MedSpeed', 'Office Depot OfficeMax', 'Academy Sports + Outdoors', 'Coca-Cola Bottling Co. Consolidated', 'Amazon.com', 'U.S. Air Force', 'Lockheed Martin', \"Macy's\", 'J.B. Hunt', 'Old Navy', 'Walmart', 'Ikea', 'Northrop Grumman', 'U.S. Navy', 'Army National Guard', 'U.S. Marine Corps', 'Ryder', 'Boeing', 'Quest Diagnostics', 'SAIC', 'Leidos', 'CEVA Logistics', 'Mako Medical Laboratories', 'Red Bull', 'Mondelez International', 'US Foods', 'Verizon', 'General Dynamics Information Technology', 'Ecolab', 'Army Reserve', 'Volvo', 'Total Quality Logistics (TQL)', 'Avanade', 'XPO Logistics', 'Raytheon', 'GE Corporate', 'Caterpillar', 'Huntington Ingalls Industries', 'AECOM', 'Ingram Micro', 'Fastenal', 'Booz Allen Hamilton', \"Mariano's\", 'C.H. Robinson']\n",
      "['Padgett Swann Machinery']\n",
      "['Rore', 'RORE, Inc']\n",
      "[]\n",
      "['American Cornerbead Company']\n",
      "['U.S. Army', 'Peopleready', 'U.S. Navy', 'Comcast', 'Tradesmen International', 'McCarthy Building Co', 'State of Arizona', 'NPL Construction', 'AECOM', 'CRH', 'Rogers', 'CDM Smith', 'Ultimate LLC', 'Construction Labor Contractors', 'intertek', 'Jacobs', 'Advantage Engineers, LLC', 'Match Marketing', 'KGPCo', 'Habitat For Humanity', 'Fluor Corp.', 'Parsons', 'Signature Retail Services', 'Tremco Incorporated', 'Apex Companies, LLC', 'Blackmon Mooring & BMSCAT', 'Pacific Gas and Electric Company (PG&E)', 'Permabilt Industries, Inc.', 'Miller Pipeline LLC', 'AT&T', 'Edison Energy', 'DuPont', 'Installed Building Products', 'Staff Zone', 'Landscapes Unlimited LLC', 'IBEW', 'Holtger Bros', 'Wood Group', 'Champion Window', 'Alpha EMC', 'HDR', 'CPI Security Systems', 'Burns & McDonnell', 'Altice USA', 'Mortenson Construction', 'Bear Staffing Services', 'MasTec Utility Services', 'NiSource', 'Symbia Logistics', 'Flatiron Construction Corp']\n",
      "['Weber Group Inc.', 'FIRST WEBER GROUP', 'Weber Law Group', 'The Weber Group', 'First Weber Group Realtors', 'Weber Shandwick']\n",
      "['KPMG', 'Premier Research', 'Raytheon', 'Lockheed Martin', 'Humana', 'CohnReznick', 'Centene', 'Collins Aerospace', 'BAE Systems', 'Parker Hannifin', 'Prudential', 'Chesterfield County', 'Insight Enterprises, Inc.', 'AT&T', 'UCLA Health', 'NetApp', 'Stryker', 'U.S. Army', 'Industrial Light & Magic', 'Colorado Springs Utilities', 'Mitsubishi Hitachi Power Systems Americas, Inc.', 'Bechtel', 'Capital One', 'NumberWorks, LLC', 'Stratasys', 'OSU Wexner Medical Center', 'GE Corporate', 'ManTech International Corporation', 'ExxonMobil', 'Pacific Northwest National Laboratories', 'Wayne State University', 'Idaho Power Company', 'Noble Energy', 'University of Virginia Health System', 'RTI International', 'Novo Nordisk, Inc.', 'Whitney Bradley & Brown', 'Aetna', 'Magna International Inc', 'Cedars-Sinai', 'Pratt & Whitney', 'Teledyne', 'Texas Health and Human Services Commission', 'Northwestern University', 'Workday', 'Puget Sound Energy', 'Metropolitan Government of Nashville & Davidson County', 'SpaceX', 'Venesco, LLC', 'Covance']\n",
      "['Sittercity', 'PetSmart', 'Rover.com', 'VetCor', 'Banfield Pet Hospital', 'DFW Pet Sitting Services, Inc.', 'Destination Pet, LLC', 'Pet Supplies Plus', 'Wag Hotels', 'Wag!', 'Self Own Business', \"Woof's Play & Stay\", 'DogVacay', 'Fetch! Pet Care', 'Petco', 'Best Friends Pet Care', 'PET PALACE', 'OLDE TOWNE PET RESORT', 'Silverado', 'Pet Suites', 'Animal care', 'PetSuites of America', 'Fur-Get Me Not', 'Social Pet', 'All The Best Pet Care', 'Pets a Go Go LLC', \"Aunty Ashley's Pet Nannies\", 'Boston Red Dog', 'Lawrence Pet Friends', 'Nestle Purina', 'Green Paws Chicago', 'VIP Petcare', 'Petsitter', 'Private Duty In-Home Care', 'Pawsitive Pets, LLC', 'Manhattan Mutt Company, LLC', 'Cinder Hills Kennels', 'Pets & Company', 'Pet Supermarket', 'Dogsitting', 'SMS Assist', 'CVS Health', 'PETSUITES', 'Neighborhood House', 'Nextdoor', 'Pet-Sitting', 'Creature Comforts Pet Resort', 'Mars', 'Neighborhood Services', 'Selfhelp Community Services']\n",
      "['Florida Caribbean Distillers']\n",
      "['B. Frank Joy LLC']\n",
      "['Paragon Marketing Group', 'Wyndham Destinations', 'Texas Roadhouse', 'Power Home Remodeling', 'On the Border Mexican Grill and Cantina', 'Costco Wholesale', 'Accenture', 'AmeriCorps', 'Welk Resort Group', 'Renewal by Andersen', 'U-Haul', 'Sears', 'Anheuser-Busch', 'Farmers Insurance Group', 'AT&T', 'Chick-fil-A', 'Florida Home Improvement Associates', 'Cargill', 'IBM', 'Harbor Healthcare System', 'Facebook', 'Verizon', 'Aramark', 'Yankee Home Improvement', 'GE Corporate', \"Jimmy John's Sandwiches\", 'Ensign Services', 'Diamond Resorts', 'Amazon.com', 'Honeywell', 'Merck', 'Google', 'WeWork', 'JPMorgan Chase', 'Miracle Ear', 'Hilton Grand Vacations', 'Red Bull', 'Broadcom', 'Siemens AG', 'Microsoft', 'Bank of America', 'Staples', 'State Farm Mutual Automobile Insurance Company', 'GE Healthcare', 'DPR Construction', 'HP', 'Salesforce', 'CVS Health', 'Marriott Vacations Worldwide', 'Erie Construction']\n"
     ]
    },
    {
     "name": "stdout",
     "output_type": "stream",
     "text": [
      "['Dollinger Properties']\n",
      "['Prima Power North America']\n",
      "['GA Masonry']\n",
      "[]\n",
      "['Huawei']\n",
      "['Microporous']\n",
      "['ENVIRONMENTAL SYSTEMS INC', 'Environmental Air Systems', 'Otto Environmental Systems', 'Environmental Systems Design', 'Environmental Systems Research Institute', 'ANGUIL ENVIRONMENTAL SYSTEMS, INC.', 'Environmental Systems Products', 'Greensburg Environmental Contracting Systems Inc', 'Trap Zap Environmental Systems, Inc', 'ENVIRONMENTAL SERVICE SYSTEMS, LLC', 'Landmarc Environmental Systems', 'Environmental Systems Corporation', 'Environmental Monitoring Systems', 'Environmental Temperature Systems, LLC', 'DRS Environmental Systems', 'Carolina Environmental Systems.', 'Environmental & Fueling Systems, LLC', 'Environmental Systems Associates', 'Environmental Systems', 'Associated Environmental Systems', 'ENVIRONMENTAL CONTROL SYSTEMS', 'California Environmental Systems', 'Environmental Systems Corp', 'Environmental Service Systems', 'QED Environmental Systems, Inc', 'Carolina Environmental Systems Inc', 'Harris Environmental Systems', 'Network Environmental Systems', 'Ecologix Environmental Systems', 'Spray Systems Environmental', 'U.S. Army', 'U.S. Air Force', 'Northrop Grumman', 'Siemens AG', 'ALSTOM', 'Pentair, Inc.', 'North Carolina State University', 'Esri', 'Veolia', 'Jackson Health System', 'Stevens Institute of Technology', 'Mitsubishi Electric', 'The University of Western Australia']\n",
      "['FISHER DEVELOPMENT INC', 'Fisher Development, Inc', 'Fisher Early Childhood Development Center']\n",
      "['Indian Summer Carpet Mills']\n",
      "['SCRUB Inc', 'Surgical Scrub', 'Scrub World', 'Scrub a Dub Car Wash', 'scrub a dub maids', 'Scrub Oaks', 'U Scrub A Pup', 'SCRUB', 'Scrub Hub', 'Scrub A Dub', 'scrub wear house', 'Scrub a Pup', 'Scrub-a-Dub', 'Scrub Stop', 'Scrub Boys Car Wash', 'The Scrub Shop', 'Scrub Pro Uniforms', 'Scrub Identity', 'Pella Scrub Store', 'The Scrub House/Colorado Uniform Company', \"The Wendy's Company\"]\n",
      "['Cockram Construction', 'U.S. Army', 'Peopleready', 'U.S. Navy', 'Comcast', 'Tradesmen International', 'McCarthy Building Co', 'State of Arizona', 'NPL Construction', 'AECOM', 'CRH', 'Rogers', 'CDM Smith', 'Ultimate LLC', 'Construction Labor Contractors', 'intertek', 'Jacobs', 'Advantage Engineers, LLC', 'Match Marketing', 'KGPCo', 'Habitat For Humanity', 'Fluor Corp.', 'Parsons', 'Signature Retail Services', 'Tremco Incorporated', 'Apex Companies, LLC', 'Blackmon Mooring & BMSCAT', 'Pacific Gas and Electric Company (PG&E)', 'Permabilt Industries, Inc.', 'Miller Pipeline LLC', 'AT&T', 'Edison Energy', 'DuPont', 'Installed Building Products', 'Staff Zone', 'Landscapes Unlimited LLC', 'IBEW', 'Holtger Bros', 'Wood Group', 'Champion Window', 'Alpha EMC', 'HDR', 'CPI Security Systems', 'Burns & McDonnell', 'Altice USA', 'Mortenson Construction', 'Bear Staffing Services', 'MasTec Utility Services', 'NiSource', 'Symbia Logistics']\n",
      "['Oscar Renda Contracting, Inc.', 'OSCAR RENDA CONTRACTING']\n",
      "['Interwest Construction, Inc.', 'U.S. Army', 'Peopleready', 'U.S. Navy', 'Comcast', 'Tradesmen International', 'McCarthy Building Co', 'State of Arizona', 'NPL Construction', 'AECOM', 'CRH', 'Rogers', 'CDM Smith', 'Ultimate LLC', 'Construction Labor Contractors', 'intertek', 'Jacobs', 'Advantage Engineers, LLC', 'Match Marketing', 'KGPCo', 'Habitat For Humanity', 'Fluor Corp.', 'Parsons', 'Signature Retail Services', 'Tremco Incorporated', 'Apex Companies, LLC', 'Blackmon Mooring & BMSCAT', 'Pacific Gas and Electric Company (PG&E)', 'Permabilt Industries, Inc.', 'Miller Pipeline LLC', 'AT&T', 'Edison Energy', 'DuPont', 'Installed Building Products', 'Staff Zone', 'Landscapes Unlimited LLC', 'IBEW', 'Holtger Bros', 'Wood Group', 'Champion Window', 'Alpha EMC', 'HDR', 'CPI Security Systems', 'Burns & McDonnell', 'Altice USA', 'Mortenson Construction', 'Bear Staffing Services', 'MasTec Utility Services', 'NiSource', 'Symbia Logistics']\n",
      "['SunCap Property Group']\n",
      "['GVW Group, LLC']\n",
      "['SONCO WORLDWIDE INC', 'Sonco Worldwide']\n",
      "[]\n",
      "['Dagle Electrical Construction', 'U.S. Army', 'Peopleready', 'U.S. Navy', 'Comcast', 'Tradesmen International', 'McCarthy Building Co', 'State of Arizona', 'NPL Construction', 'AECOM', 'CRH', 'Rogers', 'CDM Smith', 'Ultimate LLC', 'Construction Labor Contractors', 'intertek', 'Jacobs', 'Advantage Engineers, LLC', 'Match Marketing', 'KGPCo', 'Habitat For Humanity', 'Fluor Corp.', 'Parsons', 'Signature Retail Services', 'Tremco Incorporated', 'Apex Companies, LLC', 'Blackmon Mooring & BMSCAT', 'Pacific Gas and Electric Company (PG&E)', 'Permabilt Industries, Inc.', 'Miller Pipeline LLC', 'AT&T', 'Edison Energy', 'DuPont', 'Installed Building Products', 'Staff Zone', 'Landscapes Unlimited LLC', 'IBEW', 'Holtger Bros', 'Wood Group', 'Champion Window', 'Alpha EMC', 'HDR', 'CPI Security Systems', 'Burns & McDonnell', 'Altice USA', 'Mortenson Construction', 'Bear Staffing Services', 'MasTec Utility Services', 'NiSource', 'Symbia Logistics']\n",
      "[]\n",
      "['Tradesmen International', 'CB&I', 'Jacobs', 'Fluor Corp.', 'Mortenson Construction', 'Zachry Group', 'KBR', 'Zachry Construction Corporation', 'Turner Industries', 'Bechtel', 'Wood Group', 'McDermott', 'Performance Contractors', 'Crossland Construction Company', 'Koch Industries', 'Cianbro', 'Ironworkers Local', 'Wanzek Construction', 'PCL Construction', 'aptim', 'Commercial Metals Company', 'LPR CONSTRUCTION', 'Adaptive Construction Solutions', 'Kiewit', 'TIC', 'HKA Enterprises', 'EMCOR', 'MTA Metro North Railroad', 'Construction Labor Contractors', 'Electrical Talent, LLC', 'ExxonMobil', 'Crowder Constructors Inc', '360 Industrial Services', 'CBI Group, Inc.', 'Brown and Root Industrial Services', 'AECOM', 'Mundy Companies', 'Kinsley Construction', 'Bass Mechanical, Inc.', 'Sundt Construction, Inc.', 'Ironworkers Union Local', 'ITS', 'Finish Line', 'United States Steel', 'S&B Engineers and Constructors, Ltd.', 'IRON WORKERS LOCAL', 'Matrix Service Company', 'Local 512', 'Robinson Construction', 'Blue Star Steel']\n",
      "['DOWL LLC', 'DOWL', 'DOWL HKM']\n",
      "['U.S. Army', 'The Pep Boys - Manny, Moe & Jack', 'TravelCenters of America', 'Army National Guard', 'Sunbelt Rentals', 'AutoNation', 'U.S. Navy', 'U.S. Air Force', 'U.S. Marine Corps', 'Herc Rentals', 'Sunstate Equipment', 'Boeing', 'Pilot Flying J', 'Army Reserve', 'Big O Tires', 'Lockheed Martin', 'H&E Equipment Services', 'Menzies Aviation', 'CRH', 'Firestone Complete Auto Care', 'The Hertz Corporation', 'YRC Freight', 'U-Haul', 'Transdev', 'XPO Logistics', 'Waste Connections', 'AECOM', 'Bowlero Corp', 'Rural King', 'Northrop Grumman', 'Amerit Fleet Solutions', 'Goodyear', 'Republic Services', 'Ag-Pro Companies', 'Jiffy Lube', 'Werner Enterprises', 'DynCorp International Inc', 'Mavis Discount Tire', 'Sears', 'Tyson Foods Incorporated', 'UPS', \"Love's Travel Stops & Country Stores\", 'Walmart', 'Vail Resorts', 'Niagara Bottling', 'Halliburton', 'MV Transportation', 'United States Postal Service', 'K1 Speed', 'Waste Industries']\n",
      "['PERI Formwork Systems Inc.']\n",
      "[\"Hirshfield's Inc.\", \"Hirshfield's\"]\n",
      "['PCV Murcor', 'PCV MurCor Appraisal Management Company', 'PCV MURCOR REAL ESTATE SERVICES']\n",
      "['North Shore Animal League America', 'North shore Animal League of America']\n",
      "['AmeriCan Adventures Travel, Inc.']\n",
      "['HOHL INDUSTRIAL SERVICES, INC.', 'Hohl Industrial Services, Inc']\n",
      "['Evans & Sutherland Computer Corporation']\n",
      "['Northern Construction Service LLC', 'U.S. Army', 'Peopleready', 'U.S. Navy', 'Comcast', 'Tradesmen International', 'McCarthy Building Co', 'State of Arizona', 'NPL Construction', 'AECOM', 'CRH', 'Rogers', 'CDM Smith', 'Ultimate LLC', 'Construction Labor Contractors', 'intertek', 'Jacobs', 'Advantage Engineers, LLC', 'Match Marketing', 'KGPCo', 'Habitat For Humanity', 'Fluor Corp.', 'Parsons', 'Signature Retail Services', 'Tremco Incorporated', 'Apex Companies, LLC', 'Blackmon Mooring & BMSCAT', 'Pacific Gas and Electric Company (PG&E)', 'Permabilt Industries, Inc.', 'Miller Pipeline LLC', 'AT&T', 'Edison Energy', 'DuPont', 'Installed Building Products', 'Staff Zone', 'Landscapes Unlimited LLC', 'IBEW', 'Holtger Bros', 'Wood Group', 'Champion Window', 'Alpha EMC', 'HDR', 'CPI Security Systems', 'Burns & McDonnell', 'Altice USA', 'Mortenson Construction', 'Bear Staffing Services', 'MasTec Utility Services', 'NiSource', 'Symbia Logistics']\n"
     ]
    },
    {
     "name": "stdout",
     "output_type": "stream",
     "text": [
      "[]\n",
      "['NOR-SON, Inc.']\n",
      "['Peopleready', 'Tyson Foods Incorporated', 'Tradesmen International', 'CRH', 'Smithfield Foods', 'Mortenson Construction', 'Walmart', 'Army & Airforce Exchange Service', 'Perdue Farms, Inc.', 'Republic Services', 'Amazon.com', 'Goodwill Industries', 'PepsiCo', 'International Paper', 'Construction Labor Contractors', 'DHL', 'PACESETTER PERSONNEL SERVICES', 'CB&I', 'Cargill', 'Baker Roofing', 'Universal Forest Products, Inc.', 'Kraft Heinz Company', 'Mancan', 'Brightview', 'Turner Industries', '1-800-GOT-JUNK?', 'Staff Zone', 'Servpro', 'General Motors', 'Air Force Nonappropriated Fund (AFNAF) Services Career Program', 'UPS', 'MasTec Utility Services', 'Westrock', 'Blattner Energy, Inc.', 'ResourceMFG', 'The Home Depot', 'COLAS', 'Conagra Brands', 'General Mills', 'ARYZTA', 'ProLogistix', 'Target', 'Jacobs', 'Compass Group', '3M', 'Select Energy Services', 'Loram Maintenance of Way', 'Advantage Resourcing North America', 'CGB Enterprises Inc', 'JELD-WEN']\n",
      "[]\n",
      "['MILLENNIUM POWER SERVICES, INC']\n",
      "[]\n",
      "['U.S. Army', 'Peopleready', 'U.S. Navy', 'Comcast', 'Tradesmen International', 'McCarthy Building Co', 'State of Arizona', 'NPL Construction', 'AECOM', 'CRH', 'Rogers', 'CDM Smith', 'Ultimate LLC', 'Construction Labor Contractors', 'intertek', 'Jacobs', 'Advantage Engineers, LLC', 'Match Marketing', 'KGPCo', 'Habitat For Humanity', 'Fluor Corp.', 'Parsons', 'Signature Retail Services', 'Tremco Incorporated', 'Apex Companies, LLC', 'Blackmon Mooring & BMSCAT', 'Pacific Gas and Electric Company (PG&E)', 'Permabilt Industries, Inc.', 'Miller Pipeline LLC', 'AT&T', 'Edison Energy', 'DuPont', 'Installed Building Products', 'Staff Zone', 'Landscapes Unlimited LLC', 'IBEW', 'Holtger Bros', 'Wood Group', 'Champion Window', 'Alpha EMC', 'HDR', 'CPI Security Systems', 'Burns & McDonnell', 'Altice USA', 'Mortenson Construction', 'Bear Staffing Services', 'MasTec Utility Services', 'NiSource', 'Symbia Logistics', 'Flatiron Construction Corp']\n",
      "['Schumacher Electric Corporation', 'Schumacher Electric I', 'Schumacher Electric']\n",
      "['Hill Companies', 'Mc Graw Hill Companies', 'Jacobs', 'S&P Global', 'S&P Global Ratings', 'S&P Global Market Intelligence', 'Ctb McGraw-Hill', 'S&P Global Platts']\n",
      "['SCHWEIGER CONSTRUCTION COMPANY', 'U.S. Army', 'Peopleready', 'U.S. Navy', 'Comcast', 'Tradesmen International', 'McCarthy Building Co', 'State of Arizona', 'NPL Construction', 'AECOM', 'CRH', 'Rogers', 'CDM Smith', 'Ultimate LLC', 'Construction Labor Contractors', 'intertek', 'Jacobs', 'Advantage Engineers, LLC', 'Match Marketing', 'KGPCo', 'Habitat For Humanity', 'Fluor Corp.', 'Parsons', 'Signature Retail Services', 'Tremco Incorporated', 'Apex Companies, LLC', 'Blackmon Mooring & BMSCAT', 'Pacific Gas and Electric Company (PG&E)', 'Permabilt Industries, Inc.', 'Miller Pipeline LLC', 'AT&T', 'Edison Energy', 'DuPont', 'Installed Building Products', 'Staff Zone', 'Landscapes Unlimited LLC', 'IBEW', 'Holtger Bros', 'Wood Group', 'Champion Window', 'Alpha EMC', 'HDR', 'CPI Security Systems', 'Burns & McDonnell', 'Altice USA', 'Mortenson Construction', 'Bear Staffing Services', 'MasTec Utility Services', 'NiSource', 'Symbia Logistics']\n",
      "[]\n",
      "['Scarsella Bros. Inc.', 'Scarsella Bros', \"Scarsella Bro's\"]\n",
      "['Rapid flow', 'Target', 'Academy Sports + Outdoors', \"Ollie's Bargain Outlet\", 'Burlington Stores', 'Ikea', 'The Home Depot', \"Dick's Sporting Goods\", 'Meijer', 'Compass Group', 'Fedex Supply Chain', 'Honeywell', 'Amazon.com', 'Urban Outfitters Inc.', 'Bank of America', 'RR Donnelley', 'Cameron', 'Schlumberger', 'GE Corporate', \"L'Oreal USA\", 'Select Energy Services', 'HomeGoods', 'Walmart', 'BNY Mellon', 'Citi', \"Lowe's\", 'Piedmont Healthcare', 'RGIS Inventory Specialists', 'Planned Parenthood', 'Aeropostale', 'PerkinElmer', 'Wood Group', 'Accenture', 'Leidos', 'John Deere', 'Best Buy', 'Integreon Managed Solutions', 'Target Logistics', 'Baker Hughes Incorporated', 'Deloitte', 'UPS', 'LabCorp', \"Macy's\", 'Comcast', 'HEB', 'buy buy BABY', 'Stuart Pressure Control', 'Hikma Pharmaceuticals', 'Nike', 'Superior Energy Services, Inc']\n",
      "['Long Fence', 'Long Fence & Home', 'Long Fence and Homes']\n",
      "['Lamb Weston', 'Conagra Brands']\n",
      "['leisure hotels', 'Warner Leisure Hotels', 'Leisure Hotels and Resorts', 'Marriott International, Inc.', 'Accor', 'Bourne Leisure']\n",
      "['PLASKA TRANSMISSION LINE CONSTRUCTION, LLC', 'U.S. Army', 'Peopleready', 'U.S. Navy', 'Comcast', 'Tradesmen International', 'McCarthy Building Co', 'State of Arizona', 'NPL Construction', 'AECOM', 'CRH', 'Rogers', 'CDM Smith', 'Ultimate LLC', 'Construction Labor Contractors', 'intertek', 'Jacobs', 'Advantage Engineers, LLC', 'Match Marketing', 'KGPCo', 'Habitat For Humanity', 'Fluor Corp.', 'Parsons', 'Signature Retail Services', 'Tremco Incorporated', 'Apex Companies, LLC', 'Blackmon Mooring & BMSCAT', 'Pacific Gas and Electric Company (PG&E)', 'Permabilt Industries, Inc.', 'Miller Pipeline LLC', 'AT&T', 'Edison Energy', 'DuPont', 'Installed Building Products', 'Staff Zone', 'Landscapes Unlimited LLC', 'IBEW', 'Holtger Bros', 'Wood Group', 'Champion Window', 'Alpha EMC', 'HDR', 'CPI Security Systems', 'Burns & McDonnell', 'Altice USA', 'Mortenson Construction', 'Bear Staffing Services', 'MasTec Utility Services', 'NiSource', 'Symbia Logistics']\n",
      "['Tri-Wire Engineering Solutions, Inc.', 'Boeing', 'Northrop Grumman', 'Baker Hughes Incorporated', 'FTS International', 'Weatherford', 'C&J Energy Services', 'Schlumberger', 'Halliburton', 'Toyota', 'Youngquist Brothers Inc', 'Safran', 'GE Corporate', 'MBI Energy Services', 'Volvo', 'Flex', 'Navistar, Inc.', 'GR Energy Services', 'U.S. Army', 'CenturyLink', 'Verizon', 'Kauffman Engineering, Inc.', 'Tata Consultancy Services (TCS)', 'Bell Flight', 'Cyient', 'Textron', 'Lear Corporation', 'CSS Staffing', 'Virgin Galactic', 'Honda', 'Daimler AG', 'Lucid Motors', 'Apollo Professional Solutions, Inc', 'TDS Telecom', 'Blue Canyon Technologies', 'Intel', 'Copart, Inc', 'Kranze Technology Solutions', 'W.R. Berkley', 'Raytheon', 'Kitty Hawk', 'Accenture', 'ESG Automotive Inc.', 'Farmers Insurance Group', 'General Cable', 'SAIC', 'The Bartech Group', 'Guidewire Software, Inc.', 'Ford Motor Company']\n",
      "['New England Produce Center', 'Albertsons', 'Walmart', 'Food Lion', 'Whole Foods Market', 'Winn Dixie', 'Ingles Markets', 'HEB', 'Kroger Stores', 'Restaurant Depot', 'Natural Grocers', 'Meijer', 'Publix', 'BI-LO', \"Lucky's Market\", 'Wegmans', \"BJ's Wholesale Club\", \"Sam's Club\", 'SpartanNash', 'Target', \"Roundy's\", 'Fresh Thyme Farmers Market', 'Safeway', 'Giant Eagle, Inc.', 'Price Chopper Supermarkets', \"Mariano's\", 'Harris Teeter', 'Stop and Shop Supermarket', 'Hannaford', 'Costco Wholesale', 'US Foods', 'SuperValu Inc.', 'The Fresh Market', 'Sprouts Farmers Markets', 'Super One Foods', 'Morgan Stanley', 'Save-A-Lot', 'Wakefern Food Corporation', \"Raley's / Bel Air / Nob Hill\", 'Festival Foods', \"MOM's Organic Market\", 'Hy-Vee, Inc.', 'Sysco', 'Giant Food', 'Central Market', 'Weis Markets', \"Shaw's\", '99 Cents Only Store', 'Jewel Osco', 'Fred Meyer']\n",
      "['DuraVent', 'M&G DuraVent', 'Hi-Tech Duravent']\n",
      "['Gared Holdings, LLC']\n",
      "[]\n",
      "['Samaritan Center', 'Samaritan Medical Center', 'Good Samaritan Medical Center', 'Good Samaritan Hospital Medical Center', 'Legacy Good Samaritan Medical Center and Hospital', 'Good Samaritan Health Center of Cobb', 'Samaritan Counseling Center', 'Good Samaritan Regional Medical Center', 'Sinai Samaritan Medical Center', 'Good Samaritan Center', 'Samaritan Behavioral Center', 'SAMARITAN CARE CENTER', 'Good Samaritan Healthcare Center', 'Ministry Good Samaritan Health Center', \"Samaritan Rensselaer Children's Center\", 'GOOD SAMARITAN HEALTH CENTER', 'Steward Good Samaritan Medical Center', 'Krist Samaritan Center', 'University Good Samaritan Specialty Center', 'Good Samaritan Health Care Center', 'Good Samaritan Nursing Center', 'GOOD SAMARITAN CARE CENTER', 'Good Samaritan Counseling Center', 'Good Samaritan Health and Wellness Center', 'Samaritan Veterinary Center', 'The Samaritan Center', 'The Good Samaritan Health Center of Atlanta', 'Good Samaritan Hospital And Medical Center', 'Samaritan Center for Counseling and Pastoral Care', 'GOOD SAMARITAN HEALTH AND REHAB CENTER', 'Good Samaritan Rehabilitation Center', 'Good Samaritan Family Resource Center', 'Samaritan Health Center', 'Good Samaritan Living Center', 'MedStar Good Samaritan Nursing Center', 'Samaritan Endoscopy Center', 'Good Samaritan Lutheran Health Care Center', 'Good Samaritan Community Center', 'Samaritan Center for Counseling and Wellness', 'Olathe Good Samaritan Center', 'Good Samaritan Regional Health Center', 'Samaritan Dialysis Center', 'Good Samaritan Chronic Dialysis Center', 'Good Samaritan Health and Rehabilitation Center', 'The Good Samaritan Center', 'Samaritan Counseling Center of North Puget Sound', 'Banner Health', 'Tenet Healthcare', 'SCL Health', 'Good Samaritan Society']\n"
     ]
    },
    {
     "name": "stdout",
     "output_type": "stream",
     "text": [
      "['Secard Pools']\n",
      "['Kahala Brands']\n",
      "['ABM Industries, Inc.', 'The Hertz Corporation', 'C&W Services', 'Planet Fitness', 'Scioto Services', 'ServiceMaster', 'Avis Budget Group', 'Taco Bell', 'Enviro-Clean', 'Town Sports International', 'The Budd Group', 'The Cleaning Authority', 'IH Services, Inc', 'Motel 6 / Studio 6', 'GCA Services Group', 'Corporate Cleaning Group', 'KleenMark', 'Cushman & Wakefield', 'MaidPro', 'Enterprise Holdings', 'FBG Service Corporation', 'Marsden Building Maintenance', 'Topgolf', 'Janitorial Services, Inc.', 'ISS Facility Services', 'Nordstrom', 'SoulCycle', 'Marriott International, Inc.', 'Handy', 'Burger King', 'Walmart', 'Nelbud Services Group', 'B&T Contractors Inc', 'Mr. Rooter Plumbing', 'Swissport International Ltd.', 'Planned Companies', 'PrimeFlight Aviation', 'GRBS, Inc.', 'Kimco Services', 'Kellermeyer Bergensons Services', 'Two Maids & A Mop', \"Buc-ee's\", 'In-N-Out Burger', 'WinnCompanies', 'MasterCorp', 'Aramark', 'LA Fitness', 'Block By Block', 'Environment Control of Wisconsin, Inc.', \"The Wendy's Company\"]\n",
      "['Tenney Group']\n",
      "['Monterey Fish Company, Inc.', 'Monterey Bay Fish Grotto', 'Monterey Fish Market']\n",
      "['Reliable Management Solutions', 'Westrock', 'Cargill', 'Mars', 'MISO', 'Walgreens', 'Caraustar', 'CBRE', 'Weyerhaeuser', 'Exelon', 'Wonderful Citrus', 'Graphic Packaging', 'Imerys', 'Amazon.com', 'EthosEnergy Group', 'Calumet Specialty Products Partners, L.P.', 'JLL', 'Chevron', 'Accenture', 'Pactiv', 'DTE Energy', 'Ascend Performance Materials', 'Boise Cascade', 'BP', 'Safran', 'HP', '3coast', 'Axeon Specialty Products', 'SanDisk', 'NextEra Energy', 'aptim', 'Colgate-Palmolive', 'GreenWood, Inc.', 'Franklin International', 'Fujitsu', 'Intel', 'General Motors', 'CNH Industrial', 'U.S. Navy', 'Borden Dairy Company', 'Faurecia', 'University of Tennessee', 'Tosca Ltd', 'Allegheny Technologies Incorporated (ATI)', 'West Fraser Timber', 'BASF Corporation', 'Spirit Airlines', 'Air Liquide', \"Domino's\", 'Kellogg Company']\n",
      "['U.S. Army', 'The Pep Boys - Manny, Moe & Jack', 'TravelCenters of America', 'Army National Guard', 'Sunbelt Rentals', 'AutoNation', 'U.S. Navy', 'U.S. Air Force', 'U.S. Marine Corps', 'Herc Rentals', 'Sunstate Equipment', 'Boeing', 'Pilot Flying J', 'Army Reserve', 'Big O Tires', 'Lockheed Martin', 'H&E Equipment Services', 'Menzies Aviation', 'CRH', 'Firestone Complete Auto Care', 'The Hertz Corporation', 'YRC Freight', 'U-Haul', 'Transdev', 'XPO Logistics', 'Waste Connections', 'AECOM', 'Bowlero Corp', 'Rural King', 'Northrop Grumman', 'Amerit Fleet Solutions', 'Goodyear', 'Republic Services', 'Ag-Pro Companies', 'Jiffy Lube', 'Werner Enterprises', 'DynCorp International Inc', 'Mavis Discount Tire', 'Sears', 'Tyson Foods Incorporated', 'UPS', \"Love's Travel Stops & Country Stores\", 'Walmart', 'Vail Resorts', 'Niagara Bottling', 'Halliburton', 'MV Transportation', 'United States Postal Service', 'K1 Speed', 'Waste Industries']\n",
      "['LONE STAR CORRUGATED CONTAINER']\n",
      "['Innovation Industries']\n",
      "[]\n",
      "['CANTU SERVICES', 'Cantu Food Services']\n",
      "['GARCO CONSTRUCTION', 'U.S. Army', 'Peopleready', 'U.S. Navy', 'Comcast', 'Tradesmen International', 'McCarthy Building Co', 'State of Arizona', 'NPL Construction', 'AECOM', 'CRH', 'Rogers', 'CDM Smith', 'Ultimate LLC', 'Construction Labor Contractors', 'intertek', 'Jacobs', 'Advantage Engineers, LLC', 'Match Marketing', 'KGPCo', 'Habitat For Humanity', 'Fluor Corp.', 'Parsons', 'Signature Retail Services', 'Tremco Incorporated', 'Apex Companies, LLC', 'Blackmon Mooring & BMSCAT', 'Pacific Gas and Electric Company (PG&E)', 'Permabilt Industries, Inc.', 'Miller Pipeline LLC', 'AT&T', 'Edison Energy', 'DuPont', 'Installed Building Products', 'Staff Zone', 'Landscapes Unlimited LLC', 'IBEW', 'Holtger Bros', 'Wood Group', 'Champion Window', 'Alpha EMC', 'HDR', 'CPI Security Systems', 'Burns & McDonnell', 'Altice USA', 'Mortenson Construction', 'Bear Staffing Services', 'MasTec Utility Services', 'NiSource', 'Symbia Logistics']\n",
      "[]\n",
      "['Sheets Construction', 'U.S. Army', 'Peopleready', 'U.S. Navy', 'Comcast', 'Tradesmen International', 'McCarthy Building Co', 'State of Arizona', 'NPL Construction', 'AECOM', 'CRH', 'Rogers', 'CDM Smith', 'Ultimate LLC', 'Construction Labor Contractors', 'intertek', 'Jacobs', 'Advantage Engineers, LLC', 'Match Marketing', 'KGPCo', 'Habitat For Humanity', 'Fluor Corp.', 'Parsons', 'Signature Retail Services', 'Tremco Incorporated', 'Apex Companies, LLC', 'Blackmon Mooring & BMSCAT', 'Pacific Gas and Electric Company (PG&E)', 'Permabilt Industries, Inc.', 'Miller Pipeline LLC', 'AT&T', 'Edison Energy', 'DuPont', 'Installed Building Products', 'Staff Zone', 'Landscapes Unlimited LLC', 'IBEW', 'Holtger Bros', 'Wood Group', 'Champion Window', 'Alpha EMC', 'HDR', 'CPI Security Systems', 'Burns & McDonnell', 'Altice USA', 'Mortenson Construction', 'Bear Staffing Services', 'MasTec Utility Services', 'NiSource', 'Symbia Logistics']\n",
      "[]\n",
      "['Mountain Creek Contractors Inc', 'AT&T', 'Wells Fargo', 'United States Postal Service', 'IBM', 'Bank of America', 'Uber Partner Drivers', 'Comcast', 'Verizon', 'FedEx', 'Robert Half Technology', 'UnitedHealth Group', 'Lockheed Martin', 'U.S. Army', 'The Home Depot', 'Duke Energy', 'GE Corporate', 'Modis', 'Apple', 'Capital One', 'CenturyLink', 'Lyft', 'Instacart Shoppers', 'HP', 'Postmates', 'Northrop Grumman', 'Honeywell', 'NASA', 'McKesson', 'Amazon Flex', 'Kaiser Permanente', 'Tradesmen International', 'Google', 'Peopleready', 'Boeing', 'Citi', 'CACI International Inc', 'Siemens AG', 'Pfizer Inc.', 'JPMorgan Chase', 'Shipt', 'U.S. Air Force', 'Amazon.com', 'IDC Technologies', 'FedEx Ground', 'Department of Homeland Security', 'UPS', 'Custom Communications, Inc.', 'Facebook', 'Johnson & Johnson']\n",
      "['American Merchandising Specialists, Inc.', 'Best Buy', \"O'Reilly Auto Parts\", 'Party City Corporation', 'Petco', 'Signature Retail Services', 'Premium Retail Services', 'Old Navy', \"BJ's Wholesale Club\", 'Gap', 'PrimeSource Building Products', 'Floor and Decor', 'Bed Bath & Beyond', 'A Leading Automotive Merchandising Company', 'Harmon Face Values', 'The Home Depot', 'MSC Industrial Supply Co.', 'Bass Pro Shops', 'Gap Inc.', 'JCPenney', 'RGIS Inventory Specialists', 'buy buy BABY', 'Nordstrom', 'Books-A-Million', 'ActionLink', 'Levi Strauss & Co.', \"Boscov's Department Store\", 'Coca-Cola Bottling Co. Consolidated', 'CROSSMARK', 'Walmart', \"Macy's\", 'Target', 'Room & Board', 'Driveline Retail Merchandising', 'Aeropostale', 'Advantage Solutions', \"Cabela's Inc.\", 'Stop and Shop Supermarket', 'AmerisourceBergen', 'Franklin Retail Solutions', 'VF Corporation', 'Sears', 'The Walt Disney Company', 'Acosta Sales & Marketing', 'Camping World', 'SuperValu Inc.', \"Lowe's\", 'Carhartt', 'Michaels', 'Big R Stores']\n",
      "['FedEx Office', 'Sephora', 'Wells Fargo', 'Verizon', 'Best Buy', 'Deloitte', 'Accenture', 'Amazing Lash Studio', '7-Eleven', 'IBM', 'Mary Kay Inc', 'UnitedHealth Group', \"Toys 'R' Us\", 'Sutherland', 'Humana', 'Aetna', 'Tata Consultancy Services (TCS)', 'Jenny Craig', 'Massage Envy', 'FedEx', 'Massage Heights', 'AT&T', 'Bank of America', 'Ulta', 'EY', 'RGP', 'Scentsy', 'Capgemini', 'Progrexion', 'PNC Financial Services Group', 'Cognizant Technology Solutions', \"Macy's\", 'JPMorgan Chase', 'Infosys', 'Booz Allen Hamilton', 'Oracle', 'Robert Half Management Resources', 'CGI Group', 'HP', 'Robert Half Technology', 'Amazon.com', 'Office Depot OfficeMax', 'Sears', 'AvalonBay Communities', 'Staples', 'Wyndham Destinations', 'RSM', 'Wipro', 'Compassus', 'Microsoft']\n",
      "[]\n",
      "['Ace Staffing', 'Ace Staffing Unlimited Inc', 'Hyatt']\n",
      "['Reynolds', 'The Reynolds and Reynolds Company', 'RJ Reynolds Tobacco Co', 'Reynolds American Inc', 'Reynolds Consumer Products', 'Reynolds Polymer Technology', 'Reynolds Nationwide', 'Reynolds and Associates', 'RUSSELL REYNOLDS ASSOCIATES', 'J. Sargeant Reynolds Community College', 'Dean Witter Reynolds', 'Reynolds Memorial Hospital', 'Reynolds & Rowella LLP', 'CH Reynolds', 'REYNOLDS LAKE OCONEE', 'REYNOLDS MANUFACTURING', 'Reynolds School District', 'Reynolds Metals/Alcoa', 'Reynolds Sealing & Striping', 'REYNOLDS ASPHALT AND CONSTRUCTION', 'Roberts, Reynolds, Bedard & Tuzzio, PLLC', 'Edward A. Reynolds West Side High School', 'Reynolds Community College', 'The Reynolds Company', 'Reynolds Army Community Hospital', 'Reynolds Metal', 'J. Sergeant Reynolds Community College', 'Reynolds Inc.', 'Reynolds Law Firm', 'LA Reynolds', 'R J Reynolds', 'Morris & Reynolds Insurance', 'Reynolds Motor Company', 'Reynolds and Franke, P.C', 'Kate B. Reynolds Hospice Home', 'Reynolds Grain', 'REYNOLDS CONSTRUCTION', 'Reynolds Bros Sand and Gravel', 'Rives and Reynolds Lumber Co.', 'Reynolds Company', 'Reynolds Packaging Group', 'Reynolds Plantation', 'REYNOLDS FORD', 'CH Reynolds Electric, Inc', 'Reynolds Law Group', 'Reynolds Market', 'Reynolds Army Health Clinic', \"Reynolds' Cybernetics\", 'REYNOLDS HOLDINGS', 'Reynolds Consulting']\n"
     ]
    },
    {
     "name": "stdout",
     "output_type": "stream",
     "text": [
      "['M&F Western Products']\n",
      "['Johns Family Enterprises']\n",
      "[]\n",
      "['Distribution Technology', 'Honeywell', 'Carpenter Technology Corporation', 'Lenovo', 'World Wide Technology, Inc.', 'Arvato', 'Sole Technology']\n",
      "['Heaven Hill Distilleries Inc', 'Heaven Hill Distilleries']\n",
      "['LHC', 'LHC Group', 'LHC Homecare', 'Lhc Illinois Home Health Care', 'LHC AZ', 'LHC Physics Center', 'LHC/BAPTIST REYNOLDS', 'Walmart', 'JCPenney', 'Ochsner Health System', 'Enterprise Holdings', 'Addus HealthCare, Inc.', 'Cape Fear Valley Health System', 'Lafayette General Medical Center', 'University of Tennessee Medical Center']\n",
      "['Nada Pacific Corporation']\n",
      "['Southcreek Management Company', 'Subway', 'Taco Bell', 'Walmart', 'McDonald LLC', \"The Wendy's Company\", 'Sonic Drive-In', 'Burger King', 'Starbucks', 'Whataburger', 'U.S. Air Force', 'Little Caesars', \"McDonald's\", 'U.S. Army', 'KFC', 'UPS', 'Verizon', 'AT&T', 'U.S. Navy', \"Lowe's\", \"Domino's\", 'Walgreens', 'Deloitte', 'Chick-fil-A', \"Papa John's\", 'Sprint', 'Pizza Hut', \"Macy's\", 'Dollar General', 'Kroger Stores', 'IHOP', \"Toys 'R' Us\", 'The Home Depot', 'IBM', 'Wells Fargo', 'Sears', 'Sport Clips', \"Dunkin' Donuts\", 'Wingstop', 'Nordstrom', 'Jack in the Box', 'JCPenney', \"Jimmy John's Sandwiches\", 'Steak N Shake', 'Dairy Queen', 'T-Mobile', 'White Castle', 'PwC', 'Panera Bread', 'Accenture']\n",
      "['Ozark Striping']\n",
      "[]\n",
      "['Novum Structures']\n",
      "['Air Wisconsin Airlines', 'Delta']\n"
     ]
    }
   ],
   "source": [
    "\n",
    "# driver= webdriver.Chrome('chromedriver')\n",
    "driver = get_browser()\n",
    "url = \"https://www.indeed.com/companies\"\n",
    "\n",
    "# query_company= ['THE SOUTHERN POVERTY LAW CENTER INC','AT&T']\n",
    "# query_country = ['USA','USA']\n",
    "\n",
    "company_name=[]\n",
    "review_link =[]\n",
    "score_max =[]\n",
    "original_name=[]\n",
    "\n",
    "for i in range(0,len(query_company)):\n",
    "    \n",
    "    \n",
    "    sleep(2)\n",
    "    driver.get(url)\n",
    "\n",
    "    ## submitting name & location\n",
    "    co_name = driver.find_element_by_xpath(\"\"\"//*[@id=\"exploreCompaniesWhat\"]\"\"\")\n",
    "    co_name.send_keys(query_company[i].lower())\n",
    "\n",
    "    location = driver.find_element_by_xpath(\"\"\"//*[@id=\"exploreCompaniesWhere\"]\"\"\")\n",
    "    location.send_keys(query_country[i].lower())\n",
    "\n",
    "    driver.find_element_by_xpath(\"\"\"//*[@id=\"exploreCompaniesSearchFormContainer\"]/form/div[3]/button\"\"\").click()\n",
    "\n",
    "    soup = BeautifulSoup(driver.page_source, \"html.parser\")\n",
    "\n",
    "    try:\n",
    "        ### appending list of company names\n",
    "        name =[]\n",
    "        for l in soup.find_all(\"a\",{\"class\":\"cmp-CompanyWidget-name\"}):\n",
    "            name.append(l.text.strip())\n",
    "        print(name)\n",
    "        \n",
    "        ## storing list of companies fuzzy score with the query company name\n",
    "        score=[]\n",
    "        for s in name:\n",
    "            score.append(fuzz.ratio(clean(query_company[i]).lower(),clean(s).lower()))\n",
    "#         print(score)\n",
    "        \n",
    "        ## cut off as 90-- if more than one cutoff is 90-- choosing max value. What if max value appears more than one time??\n",
    "        values={}\n",
    "        for k,v in enumerate(score):\n",
    "            if v>79:\n",
    "                values[k] = v\n",
    "        \n",
    "#         print(values)\n",
    "        \n",
    "        position = max(values.items(), key=operator.itemgetter(1))[0]\n",
    "#         print(position)\n",
    "        \n",
    "        score_maxvalue = max(values.items(), key=operator.itemgetter(1))[1]\n",
    "#         print(score_maxvalue)\n",
    "         \n",
    "        NAME = name[position]\n",
    "        ORI_NAME = original[i]\n",
    "        LINK = \"https://www.indeed.com\"+soup.find_all(\"a\",{\"data-tn-element\":\"reviews-footer-link\"},href=True)[position]['href']\n",
    "        SCORE = score_maxvalue\n",
    "    except:\n",
    "        NAME=query_company[i]\n",
    "        ORI_NAME = original[i]\n",
    "        LINK=\"\"  \n",
    "        SCORE =\"\"\n",
    "    company_name.append(NAME)\n",
    "    review_link.append(LINK)\n",
    "    score_max.append(SCORE)\n",
    "    original_name.append(ORI_NAME)\n",
    "    \n",
    "    driver.refresh \n",
    "\n",
    "driver.quit()\n",
    "\n"
   ]
  },
  {
   "cell_type": "code",
   "execution_count": 65,
   "metadata": {
    "collapsed": true
   },
   "outputs": [],
   "source": [
    "pd.DataFrame({'company_name':company_name,'original_name':original_name,'review_link':review_link,'max_score':score_max}).to_excel('Dec_Renewal_indeed.xlsx')"
   ]
  },
  {
   "cell_type": "markdown",
   "metadata": {},
   "source": [
    "## built condensed function for getting all matches"
   ]
  },
  {
   "cell_type": "code",
   "execution_count": 31,
   "metadata": {},
   "outputs": [
    {
     "name": "stderr",
     "output_type": "stream",
     "text": [
      "C:\\Users\\arvind.baranwal\\AppData\\Local\\Continuum\\anaconda3\\lib\\site-packages\\ipykernel_launcher.py:8: DeprecationWarning: use options instead of chrome_options\n",
      "  \n"
     ]
    }
   ],
   "source": [
    "driver = get_browser()\n",
    "url = \"https://www.indeed.com/companies\"\n",
    "\n",
    "def get_browser():\n",
    "    chrome_options = webdriver.ChromeOptions()\n",
    "    chrome_options.add_argument('--headless')\n",
    "    chrome_options.add_argument('log-level=3')\n",
    "    browser = webdriver.Chrome(chrome_options=chrome_options)\n",
    "    return browser\n",
    "\n",
    "def clean(name):\n",
    "    name = name.lower()\n",
    "    junk_words = [\" corporation\",\" inc\",\" ltd\",\" pvt\",\".\",\" llc\",\" llp\",\"&amp\",\";\",\",\"]\n",
    "    for word in junk_words:\n",
    "        name = name.replace(word,\"\")\n",
    "    name = name.strip()\n",
    "    return name\n",
    "\n",
    "def candidates_indeed_1(companyname,country,match_cutoff):\n",
    "    driver = get_browser()\n",
    "    url = \"https://www.indeed.com/companies\"\n",
    "\n",
    "    driver.get(url)\n",
    "\n",
    "    ## submitting name & location\n",
    "    co_name = driver.find_element_by_xpath(\"\"\"//*[@id=\"exploreCompaniesWhat\"]\"\"\")\n",
    "    co_name.send_keys(companyname.lower())\n",
    "\n",
    "    location = driver.find_element_by_xpath(\"\"\"//*[@id=\"exploreCompaniesWhere\"]\"\"\")\n",
    "    location.send_keys(country.lower())\n",
    "\n",
    "    driver.find_element_by_xpath(\"\"\"//*[@id=\"exploreCompaniesSearchFormContainer\"]/form/div[3]/button\"\"\").click()\n",
    "\n",
    "    soup = BeautifulSoup(driver.page_source, \"html.parser\")\n",
    "\n",
    "    try:\n",
    "        ### appending list of company names\n",
    "        name =[]\n",
    "        for l in soup.find_all(\"a\",{\"class\":\"cmp-CompanyWidget-name\"}):\n",
    "            name.append(l.text.strip())\n",
    "#         print(name)\n",
    "        \n",
    "        ## storing list of companies fuzzy score with the query company name\n",
    "        scores=[]\n",
    "        found_names = []\n",
    "        review_links = []\n",
    "        position = 0\n",
    "        for s in name:\n",
    "            match_score = fuzz.ratio(clean(companyname).lower(),clean(s).lower()) \n",
    "            if match_score > match_cutoff:\n",
    "                found_names.append(s)\n",
    "                review_links.append(\"https://www.indeed.com\"+soup.find_all(\"a\",{\"data-tn-element\":\"reviews-footer-link\"},href=True)[position]['href'])\n",
    "                scores.append(match_score)\n",
    "            position+=1\n",
    "        \n",
    "    except:\n",
    "        found_names = []\n",
    "        review_links = []\n",
    "        scores=[]  \n",
    "    \n",
    "    driver.refresh \n",
    "    return found_names, review_links, scores\n",
    "\n",
    "    "
   ]
  },
  {
   "cell_type": "code",
   "execution_count": 33,
   "metadata": {},
   "outputs": [
    {
     "name": "stderr",
     "output_type": "stream",
     "text": [
      "C:\\Users\\arvind.baranwal\\AppData\\Local\\Continuum\\anaconda3\\lib\\site-packages\\ipykernel_launcher.py:8: DeprecationWarning: use options instead of chrome_options\n",
      "  \n"
     ]
    },
    {
     "data": {
      "text/plain": [
       "(['Embassy Suites by Hilton',\n",
       "  'Embassy Suites by Hilton OKC OU Medical Center',\n",
       "  'Embassy Suites by Hilton Pittsburgh Downtown',\n",
       "  'Embassy Suites by Hilton Minneapolis North',\n",
       "  'Embassy Suites by Hilton Noblesville Indianapolis Conference Center',\n",
       "  'Hilton',\n",
       "  'Starbucks',\n",
       "  'DoubleTree by Hilton',\n",
       "  'Hilton Garden Inn Hotel'],\n",
       " ['https://www.indeed.com/cmp/Embassy-Suites-By-Hilton/reviews',\n",
       "  'https://www.indeed.com/cmp/Embassy-Suites-By-Hilton-Okc-Ou-Medical-Center/reviews',\n",
       "  'https://www.indeed.com/cmp/Embassy-Suites-By-Hilton-Pittsburgh-Downtown-1/reviews',\n",
       "  'https://www.indeed.com/cmp/Embassy-Suites-By-Hilton-Minneapolis-North/reviews',\n",
       "  'https://www.indeed.com/cmp/Embassy-Suites-By-Hilton-Noblesville-Indianapolis-Conference-Center-1/reviews',\n",
       "  'https://www.indeed.com/cmp/Hilton/reviews',\n",
       "  'https://www.indeed.com/cmp/Starbucks/reviews',\n",
       "  'https://www.indeed.com/cmp/Doubletree-By-Hilton/reviews',\n",
       "  'https://www.indeed.com/cmp/Hilton-Garden-Inn-Hotel/reviews'],\n",
       " [100, 69, 71, 73, 53, 40, 12, 59, 26])"
      ]
     },
     "execution_count": 33,
     "metadata": {},
     "output_type": "execute_result"
    }
   ],
   "source": [
    "candidates_indeed_1('Embassy Suites by Hilton','US',0)"
   ]
  },
  {
   "cell_type": "markdown",
   "metadata": {},
   "source": [
    "## built condensed function for getting all matches (without using selenium, by forming the search url)"
   ]
  },
  {
   "cell_type": "code",
   "execution_count": 35,
   "metadata": {
    "collapsed": true
   },
   "outputs": [],
   "source": [
    "def candidates_indeed_2(companyname,country,match_cutoff):\n",
    "    driver = get_browser()\n",
    "## forming the url from company name and location    \n",
    "    url = \"https://www.indeed.com/cmp?q=\"+str(companyname)+\"&l=\"+str(country)+\"&from=discovery-cmp-search\"\n",
    "    driver.get(url)\n",
    "\n",
    "    soup = BeautifulSoup(driver.page_source, \"html.parser\")\n",
    "\n",
    "    try:\n",
    "        ### appending list of company names\n",
    "        name =[]\n",
    "        for l in soup.find_all(\"a\",{\"class\":\"cmp-CompanyWidget-name\"}):\n",
    "            name.append(l.text.strip())\n",
    "#         print(name)\n",
    "        \n",
    "        ## storing list of companies fuzzy score with the query company name\n",
    "        scores=[]\n",
    "        found_names = []\n",
    "        review_links = []\n",
    "        position = 0\n",
    "        for s in name:\n",
    "            match_score = fuzz.ratio(clean(companyname).lower(),clean(s).lower()) \n",
    "            if match_score > match_cutoff:\n",
    "                found_names.append(s)\n",
    "                review_links.append(\"https://www.indeed.com\"+soup.find_all(\"a\",{\"data-tn-element\":\"reviews-footer-link\"},href=True)[position]['href'])\n",
    "                scores.append(match_score)\n",
    "            position+=1\n",
    "        \n",
    "    except:\n",
    "        found_names = []\n",
    "        review_links = []\n",
    "        scores=[]  \n",
    "    \n",
    "    driver.refresh \n",
    "    return found_names, review_links, scores\n"
   ]
  },
  {
   "cell_type": "code",
   "execution_count": 38,
   "metadata": {},
   "outputs": [
    {
     "name": "stderr",
     "output_type": "stream",
     "text": [
      "C:\\Users\\arvind.baranwal\\AppData\\Local\\Continuum\\anaconda3\\lib\\site-packages\\ipykernel_launcher.py:8: DeprecationWarning: use options instead of chrome_options\n",
      "  \n"
     ]
    },
    {
     "data": {
      "text/plain": [
       "(['Embassy Suites by Hilton',\n",
       "  'Embassy Suites by Hilton OKC OU Medical Center',\n",
       "  'Embassy Suites by Hilton Pittsburgh Downtown',\n",
       "  'Embassy Suites by Hilton Minneapolis North',\n",
       "  'Embassy Suites by Hilton Noblesville Indianapolis Conference Center',\n",
       "  'Hilton',\n",
       "  'Starbucks',\n",
       "  'DoubleTree by Hilton',\n",
       "  'Hilton Garden Inn Hotel'],\n",
       " ['https://www.indeed.com/cmp/Embassy-Suites-By-Hilton/reviews',\n",
       "  'https://www.indeed.com/cmp/Embassy-Suites-By-Hilton-Okc-Ou-Medical-Center/reviews',\n",
       "  'https://www.indeed.com/cmp/Embassy-Suites-By-Hilton-Pittsburgh-Downtown-1/reviews',\n",
       "  'https://www.indeed.com/cmp/Embassy-Suites-By-Hilton-Minneapolis-North/reviews',\n",
       "  'https://www.indeed.com/cmp/Embassy-Suites-By-Hilton-Noblesville-Indianapolis-Conference-Center-1/reviews',\n",
       "  'https://www.indeed.com/cmp/Hilton/reviews',\n",
       "  'https://www.indeed.com/cmp/Starbucks/reviews',\n",
       "  'https://www.indeed.com/cmp/Doubletree-By-Hilton/reviews',\n",
       "  'https://www.indeed.com/cmp/Hilton-Garden-Inn-Hotel/reviews'],\n",
       " [100, 69, 71, 73, 53, 40, 12, 59, 26])"
      ]
     },
     "execution_count": 38,
     "metadata": {},
     "output_type": "execute_result"
    }
   ],
   "source": [
    "candidates_indeed_2('Embassy Suites by Hilton','US',0)"
   ]
  },
  {
   "cell_type": "code",
   "execution_count": null,
   "metadata": {
    "collapsed": true
   },
   "outputs": [],
   "source": []
  }
 ],
 "metadata": {
  "kernelspec": {
   "display_name": "Python 3",
   "language": "python",
   "name": "python3"
  },
  "language_info": {
   "codemirror_mode": {
    "name": "ipython",
    "version": 3
   },
   "file_extension": ".py",
   "mimetype": "text/x-python",
   "name": "python",
   "nbconvert_exporter": "python",
   "pygments_lexer": "ipython3",
   "version": "3.6.3"
  }
 },
 "nbformat": 4,
 "nbformat_minor": 2
}
